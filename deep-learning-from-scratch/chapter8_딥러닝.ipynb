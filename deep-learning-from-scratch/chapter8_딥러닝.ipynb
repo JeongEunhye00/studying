{
 "cells": [
  {
   "cell_type": "markdown",
   "id": "7603f132",
   "metadata": {},
   "source": [
    "# <span style=\"color:#2834d4\">더 깊게</span>"
   ]
  },
  {
   "cell_type": "markdown",
   "id": "81b74a83",
   "metadata": {},
   "source": [
    "## 정확도를 더 높이려면\n",
    "\n",
    "- 앙상블 학습(ensemble learning)\n",
    "- 학습률 감소(learning rate decay)\n",
    "- 데이터 확장(data augmentation)\n",
    "    - 입력 이미지를 인위적으로 scaling, translation, rotation, crop, flip 등의 변환을 주어 이미지의 개수를 늘리는 것\n",
    "\n",
    "등의 방법으로 정확도를 개선할 수 있음"
   ]
  },
  {
   "cell_type": "markdown",
   "id": "f6bd2218",
   "metadata": {},
   "source": [
    "## 깊게 하는 이유\n",
    "\n",
    "층을 깊게 할 때의 이점\n",
    "- 작은 필터를 겹쳐 신경망을 깊게 하면, 매개변수 수를 줄여 넓은 receptive field를 소화할 수 있음\n",
    "    - ex) 5x5 필터를 사용하면 매개변수가 25(5x5)개지만, 3x3 필터를 두 번 사용했을 때는 매개변수가 18(3x3x2)개"
   ]
  },
  {
   "cell_type": "markdown",
   "id": "59ba27bd",
   "metadata": {},
   "source": [
    "**5x5 합성곱 연산**\n",
    "\n",
    "<img src='img/5x5.png' width='50%' height='50%' align='left'>"
   ]
  },
  {
   "cell_type": "markdown",
   "id": "535bad1c",
   "metadata": {},
   "source": [
    "**3x3의 합성곱 계층을 2회 반복**\n",
    "\n",
    "<img src='img/3x3_2.png' width='70%' height='70%' align='left'>"
   ]
  },
  {
   "cell_type": "markdown",
   "id": "68b9d16a",
   "metadata": {},
   "source": [
    "- 학습 데이터의 양을 줄여 학습을 고속으로 수행할 수 있음\n",
    "    - 예를 들어 '개'를 인식하는 문제라면, 얕은 신경망에서 해결할 경우 개의 특징 대부분을 한 번에 이해해야 하기 때문에 변화가 풍부하고 많은 학습 데이터가 필요하여 결과적으로 학습 시간이 오래걸림\n",
    "    - 그러나 깊은 신경망에서 해결할 경우 문제를 계층적으로 분해할 수 있는데, 처음 층은 에지 학습에 전념하여 적은 학습 데이터로 효율적인 학습이 가능함. 개가 등장하는 이미지보다 에지를 포함한 이미지는 많고, 에지의 패턴은 개라는 패턴보다 구조가 훨씬 간단하기 때문.\n",
    "- 정보를 계층적으로 전달할 수 있음\n",
    "    - 에지를 추출한 층의 다음 층은 에지 정보를 쓸 수 있고, 더 고도의 패턴을 효과적으로 학습하리라 기대할 수 있음\n",
    "    - 즉, 각 층이 학습해야할 문제를 풀기 쉬운 단순한 문제로 분해할 수 있어 효율적으로 학습하리라 기대할 수 있음"
   ]
  },
  {
   "cell_type": "markdown",
   "id": "4a589463",
   "metadata": {},
   "source": [
    "# <span style=\"color:#2834d4\">딥러닝의 초기 역사</span>"
   ]
  },
  {
   "cell_type": "markdown",
   "id": "166036b4",
   "metadata": {},
   "source": [
    "## ImageNet\n",
    "\n",
    "- 100만 장이 넘는 이미지를 담고 있는 데이터셋\n",
    "- 다양한 종류의 이미지를 포함하며, 각 이미지에는 레이블이 붙어 있음\n",
    "\n",
    "ILSVRC(ImageNet Large Scale Visual Recognition Challenge)\n",
    "- 이미지 인식 기술 대회\n",
    "\n",
    "<img src='img/ILSVRC.png' width='70%' height='70%' align='left'>"
   ]
  },
  {
   "cell_type": "markdown",
   "id": "2525dbf9",
   "metadata": {},
   "source": [
    "\\* Top-5 error: 확률이 가장 높다고 생각하는 후보 클래스 5개 안에 정답이 초함되지 않은, 즉 5개 모두가 틀린 비율\n",
    "- 2012년의 AlexNet이 오류율을 크게 낮추고, 그 후 딥러닝을 활용한 기법이 꾸준히 정확도를 개선해왔음\n",
    "- 2015년에는 150층이 넘는 심층 신경망인 ResNet이 오류율을 3.5%까지 낮추었고, 이 결과는 일반적인 인간의 인식 능력을 넘어섬"
   ]
  },
  {
   "cell_type": "markdown",
   "id": "59051be9",
   "metadata": {},
   "source": [
    "## VGG (2014 - 2위)\n",
    "\n",
    "<img src='img/vgg_nets.png' width='40%' height='40%' align='left'>\n",
    "<img src='img/VGG.png' width='50%' height='50%' align='right'>"
   ]
  },
  {
   "cell_type": "markdown",
   "id": "5c371fab",
   "metadata": {},
   "source": [
    "- 합성곱 계층과 풀링 계층으로 구성되는 기본적인 CNN\n",
    "- 3x3의 작은 필터를 사용한 합성곱 계층을 연속으로 거침\n",
    "    - 합성곱 계층을 2~4회 연속으로 풀링 계층을 두어 크기를 절반으로 줄이는 처리를 반복\n",
    "- 마지막에는 완전 연결 계층을 통과시켜 결과 출력"
   ]
  },
  {
   "cell_type": "markdown",
   "id": "ac4ac0cd",
   "metadata": {},
   "source": [
    "## GoogLeNet (2014 - 1위)\n",
    "\n",
    "<img src='img/GoogLeNet.png' align='left'>\n",
    "<img src='img/inception.png' width='70%' height='70%' align='left'>"
   ]
  },
  {
   "cell_type": "markdown",
   "id": "0488f2c8",
   "metadata": {},
   "source": [
    "- 세로 방향 뿐만아니라 가로 방향도 깊음\n",
    "- 인셉션 구조 사용\n",
    "    - 크기가 다른 필터(와 풀링)을 여러 개 적용하여 그 결과를 결합\n",
    "- 1x1 크기의 필터를 사용한 합성곱 계층을 많은 곳에서 사용\n",
    "    - 채널쪽으로 크기를 줄이는 것으로, 매개변수 제거와 고속 처리에 기여"
   ]
  },
  {
   "cell_type": "markdown",
   "id": "9e3269af",
   "metadata": {},
   "source": [
    "## ResNet (2015 - 1위)\n",
    "\n",
    "<img src='img/skip_connection.png' width='40%' height='40%' align='left'>"
   ]
  },
  {
   "cell_type": "markdown",
   "id": "3f43f21c",
   "metadata": {},
   "source": [
    "- 스킵 연결(skip connection) 도입\n",
    "    - 입력 데이터를 합성곱 계층을 건너뛰어 출력에 바로 더하는 구조\n",
    "    - 층의 깊이에 비례해 성능을 향상시킬 수 있게 한 핵심\n",
    "    - 역전파 때 스킵 연결이 신호 감쇠를 막아주어, 층이 깊어져도 학습을 효율적으로 할 수 있음\n",
    "        - 역전파 때도 상류의 기울기를 그대로 하류로 보내서 기울기가 작아지거나 지나치게 커질 걱정 없이 앞 층에 의미있는 기울기가 전해지리라 기대할 수 있음\n",
    "        - 층을 깊게 할수록 기울기가 작아지는 소실 문제를 줄여줌"
   ]
  },
  {
   "cell_type": "markdown",
   "id": "9e849d0c",
   "metadata": {},
   "source": [
    "<img src='img/ResNet.jpg' align='left'>\n",
    "\n",
    "- 합성곱 계층을 2개 층마다 건너뛰면서 층을 깊게함"
   ]
  },
  {
   "cell_type": "markdown",
   "id": "961f177f",
   "metadata": {},
   "source": [
    "## 전이학습 (transfer learning)\n",
    "\n",
    "- 학습된 가중치(혹은 그 일부)를 다른 신경망에 복사한 다음 그 상태로 재학습을 수행\n",
    "    - 예를 들어 VGG와 구성이 같은 신경망을 준비하고 미리 학습된 가중치를 초깃값으로 설정한 후, 새로운 데이터셋을 대상으로 재학습(fine tuning)을 수행\n",
    "- 보유한 데이터셋이 적을 때 특히 유용한 방법"
   ]
  },
  {
   "cell_type": "markdown",
   "id": "a0ee3311",
   "metadata": {},
   "source": [
    "# <span style=\"color:#2834d4\">더 빠르게(딥러닝 고속화)</span>"
   ]
  },
  {
   "cell_type": "markdown",
   "id": "f46027af",
   "metadata": {},
   "source": [
    "## 풀어야 할 숙제\n",
    "\n",
    "<img src='img/time_dist.png' width='60%' height='60%' align='left'>"
   ]
  },
  {
   "cell_type": "markdown",
   "id": "5f4bb501",
   "metadata": {},
   "source": [
    "- AlexNet에서는 오랜 시간을 합성곱 계층에서 소요함\n",
    "    - 실제로 합성곱 계층의 처리 시간을 다 더하면 GPU에서는 전체의 95%, CPU에서는 전체의 89%\n",
    "    - 위의 그림은 추론때의 결과이지만, 학습시에도 마찬가지로 합성곱 계층에서 많은 시간을 소비함\n",
    "- 그래서 합성곱 계층에서 이뤄지는 연산을 어떻게 고속으로 효율적으로 하느냐가 딥러닝의 과제\n",
    "    - 합성곱 계층에서 수행하는 연산은 결국 '단일 곱셈-누산(Fused multiply-add, FMA)'인데, 결국 대량의 FMA를 어떻게 고속으로 효율적으로 계산하느냐는 것"
   ]
  },
  {
   "cell_type": "markdown",
   "id": "0be4bcca",
   "metadata": {},
   "source": [
    "## GPU를 활용한 고속화\n",
    "\n",
    "- GPU는 병렬 수치 연산을 고속으로 처리 가능 (CPU는 연속적인 복잡한 계산을 잘 처리함)\n",
    "- 대량 병렬 연산을 잘 처리하기 때문에, 딥러닝 연산에서 GPU를 사용하면 CPU를 사용할 때보다 놀라울 정도로 빠르게 결과를 얻을 수 있음\n",
    "\n",
    "<img src='img/cpu_gpu.png' width='50%' height='50%' align='left'>"
   ]
  },
  {
   "cell_type": "markdown",
   "id": "dc329637",
   "metadata": {},
   "source": [
    "- GPU는 주로 엔비디아와 AMD 두 회사가 제공하는데, 실제로 대부분의 딥러닝 프레임워크는 엔비디아 GPU에서만 혜택을 받을 수 있음\n",
    "    - 엔비디아의 GPU 컴퓨팅용 통합 개발 환경인 CUDA를 사용하기 때문\n",
    "    - cuDNN은 cuda 위에서 도악하는 라이브러리로, 딥러닝에 최적화된 함수 등이 구현되어 있음"
   ]
  },
  {
   "cell_type": "markdown",
   "id": "b8322e80",
   "metadata": {},
   "source": [
    "## 분산 학습\n",
    "\n",
    "딥러닝 학습을 수평 확장(scale out)하자는 아이디어, 즉 분산 학습이 중요해짐\n",
    "- gpu로 딥러닝 연산을 꽤 가속할 수 있지만, 심층 신경망에서는 학습에 며칠 혹은 몇 주가 걸리기도 함. <br>뛰어난 신경망을 만들려면 시험을 수없이 반복해야 하기 때문에 1회 학습에 걸리는 시간을 단축하고자 하는 요구가 필연적으로 생겨남\n",
    "- 딥러닝 계산을 더욱 고속화하고자 다수의 gpu와 기기로 계산을 분산하기도 함\n",
    "    - 최근에는 다수의 gpu와 컴퓨터를 이용한 분산 학습을 지원한 딥러닝 프레임워크들이 나타나고 있음\n",
    "        - 구글의 tensorflow와 마이크로소프트의 CNTK는 분산학습에 역점을 두고 개발하고 있음\n",
    "\n",
    "<img src='img/tensorflow_distributed.png' width='60%' height='60%' align='left'>"
   ]
  },
  {
   "cell_type": "markdown",
   "id": "405b0e37",
   "metadata": {},
   "source": [
    "- GPU 수가 늘어남에 따라 학습도 빨라진 것을 볼 수 있음\n",
    "    - 여러 기기를 연결해 gpu 100개를 사용하니 1개 사용할 때보다 56배 빨라짐"
   ]
  },
  {
   "cell_type": "markdown",
   "id": "e126e545",
   "metadata": {},
   "source": [
    "## 연산 정밀도와 비트 줄이기\n",
    "\n",
    "계산 능력 외에도 메모리 용량과 버스 대역폭 등이 딥러닝 고속화에 병목이 될 수 있음\n",
    "- 메모리 용량 면에서는 대량의 가중치 매개변수와 중간 데이터를 메모리에 저장해야 한다는 것을 생각해야함\n",
    "- 버스 대역폭 면에서는 GPU(혹은 CPU)의 버스를 흐르는 데이터가 많아져 한계를 넘어서면 병목이 됨\n",
    "- 이러한 경우를 고려하면 네트워크로 주고받는 데이터의 비트 수는 최소로 만드는 것이 바람직함\n",
    "\n",
    "딥러닝은 높은 수치 정밀도(수치를 몇 비트로 표현하느냐)를 요구하지 않음\n",
    "- 많은 비트를 사용할수록 계산 오차는 줄어들지만, 그만큼 계산에 드는 비용과 메모리 사용량이 늘고 버스 대역폭에 부담을 줌\n",
    "    - 컴퓨터는 주로 64비트나 32비트 부동소수점 수를 사용해 실수를 표현함\n",
    "- 예를 들어 신경망은 입력 이미지에 노이즈가 조금 섞여도 출력 결과가 잘 달라지지 않는데, 이러한 견고성 덕분에 신경망을 흐르는 데이터를 퇴화시켜도 출력에 주는 영향은 적음\n",
    "- 딥러닝은 16비트 반정밀도(half-precision)만 사용해도 학습에 문제가 없다고 알려져 있음\n",
    "    - 컴퓨터에서 실수를 표현하는 방식은 32비트 단정밀도(single-precision)와 64비트 배정밀도(double-precision) 부동소수점 등의 포맷이 있음\n",
    "    \n",
    "딥러닝의 비트 수를 줄이는 연구가 몇 가지 진행되고 있음\n",
    "- 최근에는 가중치와 중간 데이터를 1비트로 표현하는 \\<Binarized Neural Networks>라는 방법도 등장\n",
    "- 딥러닝을 고속화하기 위해 비트를 줄이는 기술은 앞으로 주시해야 할 분야이며, 특히 딥러닝을 임베디드용으로 이용할 때 중요한 주제"
   ]
  },
  {
   "cell_type": "markdown",
   "id": "eaa43916",
   "metadata": {},
   "source": [
    "# <span style=\"color:#2834d4\">딥러닝의 활용</span>\n",
    "\n",
    "딥러닝은 손글씨 숫자 인식과 같은 '사물 인식'뿐 아니라 온갖 문제에 적용할 수 있음. <br>\n",
    "이미지, 음성, 자연어 등 수많은 분야에서 딥러닝은 뛰어난 성능을 발휘함."
   ]
  },
  {
   "cell_type": "markdown",
   "id": "aa2f5a68",
   "metadata": {},
   "source": [
    "## 사물 검출\n",
    "\n",
    "- 이미지 속에 담긴 사물의 위치와 종류(클래스)를 알아내는 기술\n",
    "\n",
    "<img src='img/detection.png' width='50%' height='50%' align='left'>"
   ]
  },
  {
   "cell_type": "markdown",
   "id": "758d81ac",
   "metadata": {},
   "source": [
    "**R-CNN(Regions with CNN)**\n",
    "- CNN 기반으로 한 사물 검출을 수행하는 방식\n",
    "\n",
    "<img src='img/rcnn.png' width='60%' height='60%' align='left'>"
   ]
  },
  {
   "cell_type": "markdown",
   "id": "a717bdab",
   "metadata": {},
   "source": [
    "- 먼저 사물이 위치한 영역을 찾아내고 추출한 각 영역에 CNN을 적용하여 클래스를 분류하는 것\n",
    "- 이미지를 사각형으로 변형하거나 분류할 때 SVM 사용하는 등 실제 처리 흐름은 다소 복잡하지만, 큰 틀에서는 후보 영역 추출과 CNN 특징 계산으로 구성됨\n",
    "- 후보 영역 추출에는 다양한 기법을 사용할 수 있는데,  R-CNN에서는 Selective Search를 사용함\n",
    "\n",
    "**Faster R-CNN**\n",
    "- 모든 일을 하나의 CNN에서 처리하기 때문에 아주 빠름\n",
    "    - 후보 영역 추출까지 CNN을 사용함"
   ]
  },
  {
   "cell_type": "markdown",
   "id": "0f00de61",
   "metadata": {},
   "source": [
    "## 분할 (segmentation)\n",
    "\n",
    "- 이미지를 픽셀수준에서 분류하는 문제\n",
    "- 추론할 때마다 입력 이미지의 모든 픽셀을 분류함\n",
    "\n",
    "<img src='img/segmentation.png' width='50%' height='50%' align='left'>"
   ]
  },
  {
   "cell_type": "markdown",
   "id": "6061645a",
   "metadata": {},
   "source": [
    "**FCN(Fully Convolutional Network)**\n",
    "\n",
    "<img src='img/fcn.png' width='50%' height='50%' align='left'>"
   ]
  },
  {
   "cell_type": "markdown",
   "id": "5e485258",
   "metadata": {},
   "source": [
    "- 한 번의 forward 처리로 모든 픽셀의 클래스를 분류해주는 기법\n",
    "- 일반적인 CNN이 완전 연결 계층을 이용하는 반면, FCN은 이 완전 연결 계층을 같은 기능을 하는 합성곱 계층으로 바꿈\n",
    "    - 사물 인식에서 사용한 신경망의 완전 연결 계층에서는 중간 데이터의 볼륨을 1차원으로 변환하여 한 줄로 늘어선 노드들이 처리\n",
    "    - FCN에서는 공간 볼륨을 유지한 채 마지막 출력까지 처리함\n",
    "    - ex) input이 32X10X10 (CxHxW)인 데이터에 대해 완전 연결 계층은 필터 크기가 32X10X10인 합성곱 계층으로 대체할 수 있음. <br>만약 완전 연결 계층의 출력 노드가 100개라면, 합성곱 계층에서는32X10X10 필터를 100개 준비하면 완전히 같은 처리 가능\n",
    "- 마지막에 공간 크기를 확대하는 처리를 도입\n",
    "    - 확대 처리로 인해 줄어든 중간 데이터를 입력 이미지와 같은 크기까지 단번에 확대할 수 있음\n",
    "    - 마지막에 수행하는 확대는 bilinear interpolation에 의한 선형 확대이고, deconvolution 연산으로 구현함"
   ]
  },
  {
   "cell_type": "markdown",
   "id": "b3a71185",
   "metadata": {},
   "source": [
    "## 사진 캡션(Image caption) 생성\n",
    "\n",
    "<img src='img/image_caption.png' width='60%' height='60%' align='left'>"
   ]
  },
  {
   "cell_type": "markdown",
   "id": "4aedb192",
   "metadata": {},
   "source": [
    "- 컴퓨터 비전과 자연어를 융합한 연구로, 사진이 주어지면 그 사진을 설명하는 글(사진 캡션)을 자동으로 생성\n",
    "\n",
    "**NIC(Neural Image Caption)**\n",
    "\n",
    "<img src='img/nic.png' width='60%' height='60%' align='left'>"
   ]
  },
  {
   "cell_type": "markdown",
   "id": "db7f066e",
   "metadata": {},
   "source": [
    "- 심층 CNN과 RNN으로 구성됨\n",
    "- CNN으로 사진에서 특징을 추출하고, 그 특징을 RNN에 넘겨 추출한 특징을 초깃값으로 해서 텍스트를 생성함"
   ]
  },
  {
   "cell_type": "markdown",
   "id": "486db9f3",
   "metadata": {},
   "source": [
    "## 멀티모달 처리(multimodal processing)\n",
    "- 사진이나 자연어와 같은 여러 종류의 정보를 조합하고 처리하는 것"
   ]
  },
  {
   "cell_type": "markdown",
   "id": "b37f446c",
   "metadata": {},
   "source": [
    "# <span style=\"color:#2834d4\">딥러닝의 미래</span>"
   ]
  },
  {
   "cell_type": "markdown",
   "id": "a309902b",
   "metadata": {},
   "source": [
    "## 이미지 스타일(화풍) 변환\n",
    "\n",
    "<img src='img/stylegan.png' width='60%' height='60%' align='left'>"
   ]
  },
  {
   "cell_type": "markdown",
   "id": "2f246a44",
   "metadata": {},
   "source": [
    "- 딥러닝을 이용해 두 이미지를 입력해서 새로운 그림을 생성하는 연구\n",
    "- 네트워크의 중간 데이터가 콘텐츠 이미지의 중간 데이터와 비슷해지도록 학습하여 입력 이미지를 콘텐츠 이미지의 형태를 흉내낼 수 있음\n",
    "- 스타일 이미지의 화풍을 흡수하기 위해 '스타일 행렬'이라는 개념을 도입하여 행렬의 오차를 줄이도록 학습하여 화풍이 비슷해지게 만들 수 있음"
   ]
  },
  {
   "cell_type": "markdown",
   "id": "d35fe866",
   "metadata": {},
   "source": [
    "## 이미지 생성\n",
    "\n",
    "- 아무런 입력 이미지 없이도 새로운 이미지를 그려내는 것\n",
    "    - 대량의 이미지를 사용하여 학습하지만, 학습이 끝난 후에는 아무런 입력 이미지 없이도 새로운 그림을 그려냄\n",
    "\n",
    "**DCGAN(Deep Convolutional Gernerative Adversarial Network)**\n",
    "\n",
    "<img src='img/dcgan.png' width='50%' height='50%' align='left'>"
   ]
  },
  {
   "cell_type": "markdown",
   "id": "2c56ef97",
   "metadata": {},
   "source": [
    "- 이미지를 생성하는 과정을 모델화함\n",
    "- 기술의 핵심은 생성자(Gernerator)와 식별자(Discriminator)로 불리는 2개의 신경망을 이용한다는 것 (GAN)\n",
    "    - 생성자는 진짜와 똑같은 이미지를 생성하고 식별자는 그것이 진짜인지(생성한 이미지인지, 실제 이미지인지)를 판정"
   ]
  },
  {
   "cell_type": "markdown",
   "id": "d47a5a02",
   "metadata": {},
   "source": [
    "## 자율 주행\n",
    "\n",
    "<img src='img/img_seg.png' width='50%' height='50%' align='left'>"
   ]
  },
  {
   "cell_type": "markdown",
   "id": "75208a6a",
   "metadata": {},
   "source": [
    "- 자율 주행은 다양한 기술(주행 경로를 정하는 계획 기술과 카메라나 레이저 등의 탐사 기술 등)을 모아 구현하고 있지만, 주위 환경을 올바르게 인식하는 기술이 가장 중요한 문제\n",
    "    - 시시각각 변하는 환경과 종횡무진 오가는 다른 차와 사람들을 올바르게 인식하기가 매우 까다롭기 때문"
   ]
  },
  {
   "cell_type": "markdown",
   "id": "7686670b",
   "metadata": {},
   "source": [
    "## Deep Q-Network(강화학습)\n",
    "\n",
    "강화학습(Reinforcement learning)\n",
    "\n",
    "<img src='img/rl.png' width='50%' height='50%' align='left'>"
   ]
  },
  {
   "cell_type": "markdown",
   "id": "814eb6ed",
   "metadata": {},
   "source": [
    "- 에이전트는 환경에 맞게 행동을 선택하고, 그 행동에 의해서 환경이 변한다는 것이 기본적인 틀\n",
    "- 환경이 변화하면 에이전트는 보상을 얻는데, 강화학습의 목적은 더 나은 보상을 받는 쪽으로 에이전트의 행동 지침을 바로잡는 것\n",
    "    - 여기서 보상은 정해진 것이 아니라 '예상 보상'\n",
    "    \n",
    "**Deep Q-Network(DQN)**\n",
    "- Q learning이라는 강화학습 알고리즘을 기초로 함\n",
    "- Q learning에서는 최적 행동 가치 함수로 최적인 행동을 정하는데, 이 함수를 딥러닝(CNN)으로 비슷하게 흉내 내어 사용하는 것이 DQN"
   ]
  },
  {
   "cell_type": "markdown",
   "id": "3e797bd0",
   "metadata": {},
   "source": [
    "# <span style=\"color:#2834d4\">정리</span>\n",
    "\n",
    "- 수많은 문제에서 신경망을 더 깊게 하여 성능을 개선할 수 있음.\n",
    "- 이미지 인식 기술 대회인 ILSVRC에서는 최근 딥러닝 기반 기법이 상위권을 독점하고 있으며, 그 깊이도 더 깊어지는 추세임.\n",
    "- 유명한 신경망으로는 VGG, GoogLeNet, ResNet이 있음.\n",
    "- GPU와 분산 학습, 비트 정밀도 감소 등으로 딥러닝을 고속화할 수 있음.\n",
    "- 딥러닝(신경망)은 사물 인식 뿐만 아니라 사물 검출과 분할에도 이용할 수 있음.\n",
    "- 딥러닝의 응용 분야로는 사진의 캡션 생성, 이미지 생성, 강화학습 등이 있음. 최근에는 자율 주행에도 딥러닝을 접목하고 있음."
   ]
  }
 ],
 "metadata": {
  "kernelspec": {
   "display_name": "Python 3 (ipykernel)",
   "language": "python",
   "name": "python3"
  },
  "language_info": {
   "codemirror_mode": {
    "name": "ipython",
    "version": 3
   },
   "file_extension": ".py",
   "mimetype": "text/x-python",
   "name": "python",
   "nbconvert_exporter": "python",
   "pygments_lexer": "ipython3",
   "version": "3.7.13"
  }
 },
 "nbformat": 4,
 "nbformat_minor": 5
}
