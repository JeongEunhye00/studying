{
 "cells": [
  {
   "cell_type": "markdown",
   "id": "5d7800bd",
   "metadata": {},
   "source": [
    "# <span style=\"color:#2834d4\">논리회로</span>"
   ]
  },
  {
   "cell_type": "code",
   "execution_count": 1,
   "id": "f1e48909",
   "metadata": {},
   "outputs": [],
   "source": [
    "import numpy as np"
   ]
  },
  {
   "cell_type": "markdown",
   "id": "f6d42341",
   "metadata": {},
   "source": [
    "## 1. AND gate\n",
    "- single-layer perceptron"
   ]
  },
  {
   "cell_type": "code",
   "execution_count": 2,
   "id": "62c3fc3f",
   "metadata": {},
   "outputs": [],
   "source": [
    "def AND(x1, x2):\n",
    "    x = np.array([x1, x2])\n",
    "    w = np.array([0.5, 0.5])\n",
    "    b = -0.7\n",
    "    tmp = np.sum(w*x) + b\n",
    "    if tmp <= 0:\n",
    "        return 0\n",
    "    else:\n",
    "        return 1"
   ]
  },
  {
   "cell_type": "code",
   "execution_count": 4,
   "id": "5abbaf88",
   "metadata": {
    "scrolled": true
   },
   "outputs": [
    {
     "data": {
      "text/plain": [
       "(0, 0, 0, 1)"
      ]
     },
     "execution_count": 4,
     "metadata": {},
     "output_type": "execute_result"
    }
   ],
   "source": [
    "AND(0,0), AND(0,1), AND(1,0), AND(1,1)"
   ]
  },
  {
   "cell_type": "markdown",
   "id": "e269b6b4",
   "metadata": {},
   "source": [
    "## 2. NAND gate\n",
    "- single-layer perceptron"
   ]
  },
  {
   "cell_type": "code",
   "execution_count": 5,
   "id": "23cd3311",
   "metadata": {},
   "outputs": [],
   "source": [
    "def NAND(x1, x2):\n",
    "    x = np.array([x1, x2])\n",
    "    w = np.array([-0.5, -0.5])\n",
    "    b = 0.7\n",
    "    tmp = np.sum(w*x) + b\n",
    "    if tmp <= 0:\n",
    "        return 0\n",
    "    else:\n",
    "        return 1"
   ]
  },
  {
   "cell_type": "code",
   "execution_count": 6,
   "id": "ab4eff2e",
   "metadata": {
    "scrolled": true
   },
   "outputs": [
    {
     "data": {
      "text/plain": [
       "(1, 1, 1, 0)"
      ]
     },
     "execution_count": 6,
     "metadata": {},
     "output_type": "execute_result"
    }
   ],
   "source": [
    "NAND(0,0), NAND(0,1), NAND(1,0), NAND(1,1)"
   ]
  },
  {
   "cell_type": "markdown",
   "id": "88e6de0b",
   "metadata": {},
   "source": [
    "## 3. OR gate\n",
    "- single-layer perceptron"
   ]
  },
  {
   "cell_type": "code",
   "execution_count": 7,
   "id": "12d3a478",
   "metadata": {},
   "outputs": [],
   "source": [
    "def OR(x1, x2):\n",
    "    x = np.array([x1, x2])\n",
    "    w = np.array([0.5, 0.5])\n",
    "    b = -0.2\n",
    "    tmp = np.sum(w*x) + b\n",
    "    if tmp <= 0:\n",
    "        return 0\n",
    "    else:\n",
    "        return 1"
   ]
  },
  {
   "cell_type": "code",
   "execution_count": 8,
   "id": "715fec6d",
   "metadata": {},
   "outputs": [
    {
     "data": {
      "text/plain": [
       "(0, 1, 1, 1)"
      ]
     },
     "execution_count": 8,
     "metadata": {},
     "output_type": "execute_result"
    }
   ],
   "source": [
    "OR(0,0), OR(0,1), OR(1,0), OR(1,1)"
   ]
  },
  {
   "cell_type": "markdown",
   "id": "f602ea0c",
   "metadata": {},
   "source": [
    "## 4. XOR gate \n",
    "- multi-layer perceptron"
   ]
  },
  {
   "cell_type": "code",
   "execution_count": 9,
   "id": "aa8dd5f2",
   "metadata": {},
   "outputs": [],
   "source": [
    "def XOR(x1, x2):\n",
    "    s1 = NAND(x1, x2)\n",
    "    s2 = OR(x1, x2)\n",
    "    y = AND(s1, s2)\n",
    "    return y"
   ]
  },
  {
   "cell_type": "code",
   "execution_count": 10,
   "id": "143b1f65",
   "metadata": {
    "scrolled": true
   },
   "outputs": [
    {
     "data": {
      "text/plain": [
       "(0, 1, 1, 0)"
      ]
     },
     "execution_count": 10,
     "metadata": {},
     "output_type": "execute_result"
    }
   ],
   "source": [
    "XOR(0,0), XOR(0,1), XOR(1,0), XOR(1,1)"
   ]
  },
  {
   "cell_type": "markdown",
   "id": "e14a2537",
   "metadata": {},
   "source": [
    "# <span style=\"color:#2834d4\">정리</span>\n",
    "\n",
    "- 퍼셉트론: 입출력을 가진 알고리즘으로, 입력을 주면 정해진 규칙에 따른 값을 출력함.\n",
    "    - 퍼셉트론에서는 가중치(w)와 편향(b)을 매개변수로 설정\n",
    "    - 퍼셉트론으로 논리 회로 표현 가능\n",
    "- XOR gate는 단층 퍼셉트론으로는 표현할 수 없음 \n",
    "    - 단층 퍼셉트론으로는 비선형 영역을 구분할 수 없음. 직선형 영역만 표현 가능\n",
    "    - 다층 퍼셉트론은 비선형 영역도 표현 가능"
   ]
  }
 ],
 "metadata": {
  "kernelspec": {
   "display_name": "Python 3 (ipykernel)",
   "language": "python",
   "name": "python3"
  },
  "language_info": {
   "codemirror_mode": {
    "name": "ipython",
    "version": 3
   },
   "file_extension": ".py",
   "mimetype": "text/x-python",
   "name": "python",
   "nbconvert_exporter": "python",
   "pygments_lexer": "ipython3",
   "version": "3.7.13"
  }
 },
 "nbformat": 4,
 "nbformat_minor": 5
}
