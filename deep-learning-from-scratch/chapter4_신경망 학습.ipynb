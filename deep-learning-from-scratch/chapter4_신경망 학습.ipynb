{
 "cells": [
  {
   "cell_type": "markdown",
   "id": "079bf011",
   "metadata": {},
   "source": [
    "# <span style=\"color:#2834d4\">loss function</span>"
   ]
  },
  {
   "cell_type": "markdown",
   "id": "789407f1",
   "metadata": {},
   "source": [
    "## 1. MSE(Mean Squared Error)\n",
    "\n",
    "### $ MSE = \\frac{1}{2}\\sum_k (y_k - t_k)^2$"
   ]
  },
  {
   "cell_type": "code",
   "execution_count": 1,
   "id": "9f8d13d0",
   "metadata": {},
   "outputs": [],
   "source": [
    "import numpy as np"
   ]
  },
  {
   "cell_type": "code",
   "execution_count": 2,
   "id": "47538b8c",
   "metadata": {},
   "outputs": [],
   "source": [
    "def MSE_loss(y, t):\n",
    "    return 0.5*np.sum((y-t)**2)"
   ]
  },
  {
   "cell_type": "code",
   "execution_count": 3,
   "id": "5e7e04ea",
   "metadata": {},
   "outputs": [
    {
     "name": "stdout",
     "output_type": "stream",
     "text": [
      "0.09750000000000003\n",
      "0.5975\n"
     ]
    }
   ],
   "source": [
    "t = [0, 0, 1, 0, 0, 0, 0, 0, 0, 0]\n",
    "\n",
    "y1 = [0.1, 0.05, 0.6, 0.0, 0.05, 0.1, 0.0, 0.1, 0.0, 0.0]\n",
    "l1 = MSE_loss(np.array(y1), np.array(t))\n",
    "print(l1)\n",
    "\n",
    "y2 = [0.1, 0.05, 0.1, 0.0, 0.05, 0.1, 0.0, 0.6, 0.0, 0.0]\n",
    "l2 = MSE_loss(np.array(y2), np.array(t))\n",
    "print(l2)"
   ]
  },
  {
   "cell_type": "markdown",
   "id": "3c44ae30",
   "metadata": {},
   "source": [
    "## 2. CEE(Cross Entropy Error)\n",
    "\n",
    "### $ CEE = -\\sum_k t_k \\log{y_k} $"
   ]
  },
  {
   "cell_type": "code",
   "execution_count": 4,
   "id": "433156a3",
   "metadata": {},
   "outputs": [],
   "source": [
    "def CEE_loss(y, t):\n",
    "    delta = 1e-7\n",
    "    return -np.sum(t * np.log(y+delta))  # log 0 = -inf "
   ]
  },
  {
   "cell_type": "code",
   "execution_count": 5,
   "id": "c845e998",
   "metadata": {},
   "outputs": [
    {
     "name": "stdout",
     "output_type": "stream",
     "text": [
      "0.510825457099338\n",
      "2.302584092994546\n"
     ]
    }
   ],
   "source": [
    "t = [0, 0, 1, 0, 0, 0, 0, 0, 0, 0]\n",
    "\n",
    "y1 = [0.1, 0.05, 0.6, 0.0, 0.05, 0.1, 0.0, 0.1, 0.0, 0.0]\n",
    "l1 = CEE_loss(np.array(y1), np.array(t))\n",
    "print(l1)\n",
    "\n",
    "y2 = [0.1, 0.05, 0.1, 0.0, 0.05, 0.1, 0.0, 0.6, 0.0, 0.0]\n",
    "l2 = CEE_loss(np.array(y2), np.array(t))\n",
    "print(l2)"
   ]
  },
  {
   "cell_type": "code",
   "execution_count": 6,
   "id": "363e4320",
   "metadata": {},
   "outputs": [],
   "source": [
    "def CEE_loss(y, t):\n",
    "    if y.ndim==1:\n",
    "        t = t.reshape(1, t.size)\n",
    "        y = y.reshape(1, y.size)\n",
    "        \n",
    "    batch_size = y.shape[0]\n",
    "    \n",
    "    return -np.sum(np.log(y[np.arrange(batch_size), t] + 1e-7)) / batch_size"
   ]
  },
  {
   "cell_type": "markdown",
   "id": "d3aec695",
   "metadata": {},
   "source": [
    "```np.arrange(batch_size)``` : 0부터 batch_size-1 까지 넘파이 배열 생성 <br>\n",
    "```y[np.arrange(batch_size), t]``` : ex) batch_size=3, t=[2, 7, 0] $\\rightarrow$ [y[0,2], y[1,7], y[2,0]]"
   ]
  },
  {
   "cell_type": "markdown",
   "id": "acfbd3f7",
   "metadata": {},
   "source": [
    "# <span style=\"color:#2834d4\">수치 미분</span>"
   ]
  },
  {
   "cell_type": "markdown",
   "id": "087f8644",
   "metadata": {},
   "source": [
    "## 1. 미분\n",
    "\n",
    "### 전방차분:  $\\frac{df(x)}{dx} = \\lim_{h \\to 0}\\frac{f(x+h) - f(x)}{h}$\n",
    "\n",
    "- 수치 미분에는 오차가 포함됨.\n",
    "- 오차를 줄이기 우해 중앙 차분을 쓰기도 함.\n",
    "    - $(x+h)$와 $(x-h)$일때의 함수 $f$의 차분을 계산하는 방법\n",
    "    \n",
    "### 중앙차분: $\\frac{df(x)}{dx} = \\lim_{h \\to 0}\\frac{f(x+h) - f(x-h)}{2 \\cdot h}$"
   ]
  },
  {
   "cell_type": "code",
   "execution_count": 7,
   "id": "e38272ef",
   "metadata": {},
   "outputs": [],
   "source": [
    "def numerical_diff(f, x):\n",
    "    h = 1e-4  # 0.0001\n",
    "    return (f(x+h)-f(x-h)) / (2*h)"
   ]
  },
  {
   "cell_type": "markdown",
   "id": "b58f3792",
   "metadata": {},
   "source": [
    "## 2. 편미분\n",
    "\n",
    "### $f(x_0, x_1) = x_0^2 + x_1^2$"
   ]
  },
  {
   "cell_type": "code",
   "execution_count": 8,
   "id": "ae9cb948",
   "metadata": {},
   "outputs": [],
   "source": [
    "def function_2(x):\n",
    "    return x[0]**2 + x[1]**2"
   ]
  },
  {
   "cell_type": "markdown",
   "id": "b8df7a0d",
   "metadata": {},
   "source": [
    "#### $x_0=3, x_1=4$ 일 때, 편미분"
   ]
  },
  {
   "cell_type": "code",
   "execution_count": 9,
   "id": "fa162c14",
   "metadata": {},
   "outputs": [
    {
     "name": "stdout",
     "output_type": "stream",
     "text": [
      "6.00000000000378\n",
      "7.999999999999119\n"
     ]
    }
   ],
   "source": [
    "def function_tmp1(x0):\n",
    "    return x0*x0 + 4.0**2.0\n",
    "\n",
    "print(numerical_diff(function_tmp1, 3.0))\n",
    "\n",
    "def function_tmp2(x1):\n",
    "    return 3.0**2.0 + x1*x1\n",
    "\n",
    "print(numerical_diff(function_tmp2, 4.0))"
   ]
  },
  {
   "cell_type": "markdown",
   "id": "71204070",
   "metadata": {},
   "source": [
    "# <span style=\"color:#2834d4\">기울기</span>"
   ]
  },
  {
   "cell_type": "code",
   "execution_count": 10,
   "id": "ebbcde15",
   "metadata": {},
   "outputs": [],
   "source": [
    "def numerical_gradient(f, x):\n",
    "    h = 1e-4\n",
    "    grad = np.zeros_like(x)  # x와 형상이 같은 값이 0으로 채워진 배열 생성\n",
    "    \n",
    "    for idx in range(x.size):\n",
    "        tmp_val = x[idx]\n",
    "        \n",
    "        # f(x+h) 계산\n",
    "        x[idx] = tmp_val + h\n",
    "        fxh1 = f(x)\n",
    "        \n",
    "        # f(x-h) 계산\n",
    "        x[idx] = tmp_val - h\n",
    "        fxh2 = f(x)\n",
    "        \n",
    "        grad[idx] = (fxh1-fxh2) / (2*h)\n",
    "        x[idx] = tmp_val\n",
    "    \n",
    "    return grad"
   ]
  },
  {
   "cell_type": "code",
   "execution_count": 11,
   "id": "a1ddf6a5",
   "metadata": {},
   "outputs": [
    {
     "name": "stdout",
     "output_type": "stream",
     "text": [
      "(3,4)에서의 기울기:  [6. 8.]\n",
      "(0,2)에서의 기울기:  [0. 4.]\n",
      "(3,0)에서의 기울기:  [6. 0.]\n"
     ]
    }
   ],
   "source": [
    "print(\"(3,4)에서의 기울기: \", numerical_gradient(function_2, np.array([3.0, 4.0])))\n",
    "print(\"(0,2)에서의 기울기: \", numerical_gradient(function_2, np.array([0.0, 2.0])))\n",
    "print(\"(3,0)에서의 기울기: \", numerical_gradient(function_2, np.array([3.0, 0.0])))"
   ]
  },
  {
   "cell_type": "markdown",
   "id": "bb2e38cc",
   "metadata": {},
   "source": [
    "## 1. 경사하강법\n",
    "\n",
    "## $x_i = x_i - \\alpha \\frac{\\partial f}{\\partial x_i}$\n",
    "\n",
    "- $\\alpha$ = learning rate : 매개변수 값을 얼마나 갱신하느냐를 정하는 것\n",
    "    - 너무 크면 발산하고, 너무 작으면 학습이 느리게 진행"
   ]
  },
  {
   "cell_type": "code",
   "execution_count": 12,
   "id": "d58a0849",
   "metadata": {},
   "outputs": [],
   "source": [
    "def gradient_descent(f, init_x, lr=0.01, step_num=100):\n",
    "    x = init_x\n",
    "    \n",
    "    for i in range(step_num):\n",
    "        grad = numerical_gradient(f,x)\n",
    "        x -= lr*grad \n",
    "    \n",
    "    return x"
   ]
  },
  {
   "cell_type": "markdown",
   "id": "e0b53a27",
   "metadata": {},
   "source": [
    "#### $f(x_0, x_1) = x_0^2 + x_1^2$의 최솟값"
   ]
  },
  {
   "cell_type": "code",
   "execution_count": 13,
   "id": "d603c05e",
   "metadata": {},
   "outputs": [
    {
     "data": {
      "text/plain": [
       "array([-6.11110793e-10,  8.14814391e-10])"
      ]
     },
     "execution_count": 13,
     "metadata": {},
     "output_type": "execute_result"
    }
   ],
   "source": [
    "init_x = np.array([-3.0, 4.0])\n",
    "gradient_descent(function_2, init_x=init_x, lr=0.1, step_num=100)"
   ]
  },
  {
   "cell_type": "code",
   "execution_count": 14,
   "id": "f148a00f",
   "metadata": {},
   "outputs": [
    {
     "data": {
      "text/plain": [
       "array([-2.58983747e+13, -1.29524862e+12])"
      ]
     },
     "execution_count": 14,
     "metadata": {},
     "output_type": "execute_result"
    }
   ],
   "source": [
    "# lr이 너무 큰 경우\n",
    "init_x = np.array([-3.0, 4.0])\n",
    "gradient_descent(function_2, init_x=init_x, lr=10.0, step_num=100)"
   ]
  },
  {
   "cell_type": "code",
   "execution_count": 15,
   "id": "446b5fbe",
   "metadata": {},
   "outputs": [
    {
     "data": {
      "text/plain": [
       "array([-2.99999994,  3.99999992])"
      ]
     },
     "execution_count": 15,
     "metadata": {},
     "output_type": "execute_result"
    }
   ],
   "source": [
    "# lr이 너무 작은 경우\n",
    "init_x = np.array([-3.0, 4.0])\n",
    "gradient_descent(function_2, init_x=init_x, lr=1e-10, step_num=100)"
   ]
  },
  {
   "cell_type": "markdown",
   "id": "72e6e4fb",
   "metadata": {},
   "source": [
    "## 2. 신경망에서의 기울기"
   ]
  },
  {
   "cell_type": "code",
   "execution_count": 16,
   "id": "5ce41e08",
   "metadata": {},
   "outputs": [],
   "source": [
    "import sys, os\n",
    "sys.path.append(os.pardir)\n",
    "import numpy as np\n",
    "from common.functions import softmax, cross_entropy_error\n",
    "from common.gradient import numerical_gradient\n",
    "\n",
    "class simpleNet:\n",
    "    def __init__(self):\n",
    "        self.W = np.random.randn(2,3)  # 정규분포로 초기화\n",
    "        \n",
    "    def predict(self, x):\n",
    "        return np.dot(x, self.W)\n",
    "    \n",
    "    def loss(self, x, t):\n",
    "        z = self.predict(x)\n",
    "        y = softmax(z)\n",
    "        loss = cross_entropy_error(y, t)\n",
    "        \n",
    "        return loss"
   ]
  },
  {
   "cell_type": "code",
   "execution_count": 17,
   "id": "9338ebc5",
   "metadata": {},
   "outputs": [
    {
     "name": "stdout",
     "output_type": "stream",
     "text": [
      "[[ 0.92900301  1.5888279   0.12853715]\n",
      " [-0.5857252  -0.85550412 -0.44692251]]\n"
     ]
    }
   ],
   "source": [
    "net = simpleNet()\n",
    "print(net.W)"
   ]
  },
  {
   "cell_type": "code",
   "execution_count": 18,
   "id": "2a99f455",
   "metadata": {},
   "outputs": [
    {
     "name": "stdout",
     "output_type": "stream",
     "text": [
      "[ 0.03024913  0.18334303 -0.32510797]\n"
     ]
    }
   ],
   "source": [
    "x = np.array([0.6, 0.9])\n",
    "p = net.predict(x)\n",
    "print(p)"
   ]
  },
  {
   "cell_type": "code",
   "execution_count": 19,
   "id": "0bab56fe",
   "metadata": {},
   "outputs": [
    {
     "data": {
      "text/plain": [
       "1"
      ]
     },
     "execution_count": 19,
     "metadata": {},
     "output_type": "execute_result"
    }
   ],
   "source": [
    "np.argmax(p)  # 최댓값의 인덱스"
   ]
  },
  {
   "cell_type": "code",
   "execution_count": 20,
   "id": "175320c3",
   "metadata": {},
   "outputs": [
    {
     "data": {
      "text/plain": [
       "1.4083987510494458"
      ]
     },
     "execution_count": 20,
     "metadata": {},
     "output_type": "execute_result"
    }
   ],
   "source": [
    "t = np.array([0, 0, 1])  # 정답 레이블\n",
    "net.loss(x, t)"
   ]
  },
  {
   "cell_type": "code",
   "execution_count": 21,
   "id": "016eb0cd",
   "metadata": {},
   "outputs": [
    {
     "name": "stdout",
     "output_type": "stream",
     "text": [
      "[[ 0.20932481  0.24395434 -0.45327916]\n",
      " [ 0.31398722  0.36593151 -0.67991873]]\n"
     ]
    }
   ],
   "source": [
    "f = lambda w: net.loss(x, t)\n",
    "dW = numerical_gradient(f, net.W)\n",
    "print(dW)"
   ]
  },
  {
   "cell_type": "markdown",
   "id": "d00c226c",
   "metadata": {},
   "source": [
    "# <span style=\"color:#2834d4\">학습 알고리즘 구현하기</span>\n",
    "\n",
    "1. 미니배치\n",
    "- 훈련 데이터 중 일부를 무작위로 가져오는데, 이렇게 선별한 데이터를 미니배치라 함.\n",
    "\n",
    "2. 기울기 산출\n",
    "- 미니배치의 손실 함수 값을 줄이기 위해 각 가중치 매개변수의 기울기를 구함.\n",
    "- 기울기는 손실 함수의 값을 가장 작게하는 방향을 제시함.\n",
    "\n",
    "3. 매개변수 갱신\n",
    "- 가중치 매개변수를 기울기 방향으로 아주 조금 갱신함.\n",
    "\n",
    "4. 반복\n",
    "- 1~3 단계 반복"
   ]
  },
  {
   "cell_type": "markdown",
   "id": "438e3505",
   "metadata": {},
   "source": [
    "## 1. 2층 신경망 클래스 구현하기"
   ]
  },
  {
   "cell_type": "code",
   "execution_count": 22,
   "id": "7acc54ca",
   "metadata": {},
   "outputs": [],
   "source": [
    "import sys, os\n",
    "sys.path.append(os.pardir)\n",
    "from common.functions import *\n",
    "from common.gradient import numerical_gradient\n",
    "\n",
    "\n",
    "class TwoLayerNet:\n",
    "    def __init__(self, input_size, hidden_size, output_size, weight_init_std=0.01):\n",
    "        # 가중치 초기화\n",
    "        self.params = {}\n",
    "        self.params['W1'] = weight_init_std * np.random.randn(input_size, hidden_size)\n",
    "        self.params['b1'] = np.zeros(hidden_size)\n",
    "        self.params['W2'] = weight_init_std * np.random.randn(hidden_size, output_size)\n",
    "        self.params['b2'] = np.zeros(output_size)\n",
    "        \n",
    "    def predict(self, x):\n",
    "        W1, W2 = self.params['W1'], self.params['W2']\n",
    "        b1, b2 = self.params['b1'], self.params['b2']\n",
    "        \n",
    "        a1 = np.dot(x, W1) + b1\n",
    "        z1 = sigmoid(a1)\n",
    "        a2 = np.dot(z1, W2) + b2\n",
    "        y = softmax(a2)\n",
    "        \n",
    "        return y\n",
    "    \n",
    "    # x: 입력 데이터, t: 정답 레이블\n",
    "    def loss(self, x, t):\n",
    "        y = self.predict(x)\n",
    "        \n",
    "        return cross_entropy_error(y, t)\n",
    "    \n",
    "    def accuracy(self, x, t):\n",
    "        y = self.predict(x)\n",
    "        y = np.argmax(y, axis=1)\n",
    "        t = np.argmax(t, axis=1)\n",
    "        \n",
    "        acc = np.sum(y==t) / float(x.shape[0])\n",
    "        \n",
    "        return acc\n",
    "    \n",
    "    def numerical_gradient(self, x, t):\n",
    "        loss_W = lambda W: self.loss(x, t)\n",
    "        \n",
    "        grads = {}\n",
    "        grads['W1'] = numerical_gradient(loss_W, self.params['W1'])\n",
    "        grads['b1'] = numerical_gradient(loss_W, self.params['b1'])\n",
    "        grads['W2'] = numerical_gradient(loss_W, self.params['W2'])\n",
    "        grads['b2'] = numerical_gradient(loss_W, self.params['b2'])\n",
    "        \n",
    "        return grads"
   ]
  },
  {
   "cell_type": "code",
   "execution_count": 23,
   "id": "c7870252",
   "metadata": {},
   "outputs": [
    {
     "name": "stdout",
     "output_type": "stream",
     "text": [
      "(784, 100) (100,)\n",
      "(100, 10) (10,)\n"
     ]
    }
   ],
   "source": [
    "net = TwoLayerNet(input_size=784, hidden_size=100, output_size=10)\n",
    "\n",
    "print(net.params['W1'].shape, net.params['b1'].shape) \n",
    "print(net.params['W2'].shape, net.params['b2'].shape)"
   ]
  },
  {
   "cell_type": "code",
   "execution_count": 24,
   "id": "deb53859",
   "metadata": {},
   "outputs": [],
   "source": [
    "x = np.random.rand(100, 784)\n",
    "y = net.predict(x)"
   ]
  },
  {
   "cell_type": "code",
   "execution_count": 25,
   "id": "a5059a55",
   "metadata": {},
   "outputs": [
    {
     "name": "stdout",
     "output_type": "stream",
     "text": [
      "(784, 100) (100,)\n",
      "(100, 10) (10,)\n"
     ]
    }
   ],
   "source": [
    "x = np.random.rand(100, 784)\n",
    "t = np.random.rand(100, 10)\n",
    "\n",
    "grads = net.numerical_gradient(x, t)\n",
    "print(grads['W1'].shape, grads['b1'].shape)\n",
    "print(grads['W2'].shape, grads['b2'].shape)"
   ]
  },
  {
   "cell_type": "markdown",
   "id": "ba63101d",
   "metadata": {},
   "source": [
    "```np.random.rand(m,n)``` : 0~1 균일분포 표준정규분포 난수 mxn matrix 생성\n",
    "\n",
    "```np.random.randn(m,n)``` : 평균이 0, 표준편차가 1인 가우시안 표준정규분포 난수 mxn matrix 생성"
   ]
  },
  {
   "cell_type": "markdown",
   "id": "82cd8113",
   "metadata": {},
   "source": [
    "## 2. 미니배치 학습 구현하기"
   ]
  },
  {
   "cell_type": "code",
   "execution_count": null,
   "id": "b8bc7f37",
   "metadata": {
    "scrolled": false
   },
   "outputs": [],
   "source": [
    "import numpy as np\n",
    "from dataset.mnist import load_mnist\n",
    "\n",
    "(x_train, t_train), (x_test, t_test) = load_mnist(normalize=True, one_hot_label=True)\n",
    "\n",
    "train_loss_list = []\n",
    "train_acc_list = []\n",
    "test_acc_list = []\n",
    "\n",
    "# hyperparameter\n",
    "iters_num = 10000\n",
    "train_size = x_train.shape[0]\n",
    "batch_size = 100\n",
    "learning_rate = 0.1\n",
    "\n",
    "iter_per_epoch = max(train_size / batch_size, 1)\n",
    "\n",
    "network = TwoLayerNet(input_size=784, hidden_size=50, output_size=10)\n",
    "\n",
    "for i in range(iters_num):\n",
    "    # 미니배치 획득\n",
    "    batch_mask = np.random.choice(train_size, batch_size)\n",
    "    x_batch = x_train[batch_mask]\n",
    "    t_batch = t_train[batch_mask]\n",
    "    \n",
    "    # 기울기 계산\n",
    "    grad = network.numerical_gradient(x_batch, t_batch)\n",
    "    \n",
    "    # 매개변수 갱신\n",
    "    for key in ('W1', 'b1', 'W2', 'b2'):\n",
    "        network.params[key] -= learning_rate * grad[key]\n",
    "        \n",
    "    # 학습 경과 기록\n",
    "    loss = network.loss(x_batch, t_batch)\n",
    "    train_loss_list.append(loss)\n",
    "    \n",
    "    # 1에폭당 정확도 계산\n",
    "    if i % iter_per_epoch == 0:\n",
    "        train_acc = network.accuracy(x_train, t_train)\n",
    "        test_acc = network.accuracy(x_test, t_test)\n",
    "        train_acc_list.append(train_acc)\n",
    "        test_acc_list.append(test_acc)\n",
    "        print(\"train acc, test acc | \" + str(train_acc) + \", \" + str(test_acc))"
   ]
  },
  {
   "cell_type": "code",
   "execution_count": null,
   "id": "21abf1ae",
   "metadata": {},
   "outputs": [],
   "source": [
    "# 그래프 그리기\n",
    "markers = {'train': 'o', 'test': 's'}\n",
    "x = np.arange(len(train_acc_list))\n",
    "plt.plot(x, train_acc_list, label='train acc')\n",
    "plt.plot(x, test_acc_list, label='test acc', linestyle='--')\n",
    "plt.xlabel(\"epochs\")\n",
    "plt.ylabel(\"accuracy\")\n",
    "plt.ylim(0, 1.0)\n",
    "plt.legend(loc='lower right')\n",
    "plt.show()"
   ]
  },
  {
   "cell_type": "markdown",
   "id": "01eebdb5",
   "metadata": {},
   "source": [
    "# <span style=\"color:#2834d4\">정리</span>\n",
    "\n",
    "- 기계학습에서 사용하는 데이터셋은 train과 test dataset으로 나눠 사용함.\n",
    "    - train data로 학습한 모델의 범용 능력을 test data로 평가함.\n",
    "- 신경망 학습은 손실 함수를 지표로, 손실 함수의 값이 작아지는 방향으로 가중치 매개변수를 갱신함.\n",
    "    - 가중치 매개변수를 갱신할 때는 가중치 매개변수의 기울기를 이용하고, 기울어진 방향으로 가중치의 값을 갱신하는 작업을 반복함.\n",
    "- 아주 작은 값을 주었을 때의 차분으로 미분하는 것을 수치 미분이라고 함.\n",
    "    - 수치 미분을 이용해 가중치 매개변수의 기울기를 구할 수 있음.\n",
    "    - 수치 미분을 이용한 계산은 시간이 걸리지만, 구현은 간단함."
   ]
  }
 ],
 "metadata": {
  "kernelspec": {
   "display_name": "Python 3 (ipykernel)",
   "language": "python",
   "name": "python3"
  },
  "language_info": {
   "codemirror_mode": {
    "name": "ipython",
    "version": 3
   },
   "file_extension": ".py",
   "mimetype": "text/x-python",
   "name": "python",
   "nbconvert_exporter": "python",
   "pygments_lexer": "ipython3",
   "version": "3.7.13"
  }
 },
 "nbformat": 4,
 "nbformat_minor": 5
}
