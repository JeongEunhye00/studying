{
 "cells": [
  {
   "cell_type": "markdown",
   "id": "c1c18cfd",
   "metadata": {},
   "source": [
    "# <span style=\"color:#2834d4\">역전파</span>"
   ]
  },
  {
   "cell_type": "markdown",
   "id": "7f9054ec",
   "metadata": {},
   "source": [
    "## 1. 연쇄법칙\n",
    "\n",
    "연쇄 법칙: 합성합수의 미분은 합성함수를 구성하는 각 함수의 미분의 곱으로 나타낼 수 있다.\n",
    "\n",
    "## $\\frac{\\partial z}{\\partial x} = \\frac{\\partial z}{\\partial y} \\frac{\\partial y}{\\partial x}$"
   ]
  },
  {
   "cell_type": "markdown",
   "id": "823642db",
   "metadata": {},
   "source": [
    "## 2. add/mul/copy/max gate\n",
    "\n",
    "<img src=\"./img/gates_gradient.png\" width=\"50%\" height=\"50%\"/>"
   ]
  },
  {
   "cell_type": "markdown",
   "id": "4c312d98",
   "metadata": {},
   "source": [
    "# <span style=\"color:#2834d4\">단순한 계층 구현하기</span>"
   ]
  },
  {
   "cell_type": "markdown",
   "id": "b9a5c461",
   "metadata": {},
   "source": [
    "## 1. 곱셈 계층\n",
    "\n",
    "### $z = xy$  \n",
    "### $\\frac{\\partial z}{\\partial x} = y$, $\\frac{\\partial z}{\\partial y} = x$"
   ]
  },
  {
   "cell_type": "code",
   "execution_count": 1,
   "id": "e5962bcc",
   "metadata": {},
   "outputs": [],
   "source": [
    "class MulLayer:\n",
    "    def __init__(self):\n",
    "        self.x = None\n",
    "        self.y = None\n",
    "    \n",
    "    def forward(self, x, y):\n",
    "        self.x = x\n",
    "        self.y = y\n",
    "        out = x * y\n",
    "        \n",
    "        return out\n",
    "    \n",
    "    def backward(self, dout):\n",
    "        dx = dout * self.y\n",
    "        dy = dout * self.x\n",
    "        \n",
    "        return dx, dy"
   ]
  },
  {
   "cell_type": "markdown",
   "id": "1e99857c",
   "metadata": {},
   "source": [
    "<img src=\"./img/mullayer.png\" width=\"70%\" height=\"70%\"/>"
   ]
  },
  {
   "cell_type": "code",
   "execution_count": 2,
   "id": "348a389c",
   "metadata": {},
   "outputs": [
    {
     "name": "stdout",
     "output_type": "stream",
     "text": [
      "220.00000000000003\n"
     ]
    }
   ],
   "source": [
    "apple = 100\n",
    "apple_num = 2\n",
    "tax =1.1\n",
    "\n",
    "mul_apple_layer = MulLayer()\n",
    "mul_tax_layer = MulLayer()\n",
    "\n",
    "apple_price = mul_apple_layer.forward(apple, apple_num)\n",
    "price = mul_tax_layer.forward(apple_price, tax)\n",
    "\n",
    "print(price)"
   ]
  },
  {
   "cell_type": "code",
   "execution_count": 3,
   "id": "47e58515",
   "metadata": {},
   "outputs": [
    {
     "name": "stdout",
     "output_type": "stream",
     "text": [
      "2.2 110.00000000000001 200\n"
     ]
    }
   ],
   "source": [
    "dprice = 1\n",
    "dapple_price, dtax = mul_tax_layer.backward(dprice)\n",
    "dapple, dapple_num = mul_apple_layer.backward(dapple_price)\n",
    "\n",
    "print(dapple, dapple_num, dtax)"
   ]
  },
  {
   "cell_type": "markdown",
   "id": "2165accb",
   "metadata": {},
   "source": [
    "## 2. 덧셈 계층\n",
    "\n",
    "### $z = x + y$\n",
    "### $\\frac{\\partial z}{\\partial x} = 1$, $\\frac{\\partial z}{\\partial y} = 1$"
   ]
  },
  {
   "cell_type": "code",
   "execution_count": 4,
   "id": "5a8cb8eb",
   "metadata": {},
   "outputs": [],
   "source": [
    "class AddLayer:\n",
    "    def __init_(self):\n",
    "        pass\n",
    "    \n",
    "    def forward(self, x, y):\n",
    "        out = x + y\n",
    "        return out\n",
    "    \n",
    "    def backward(self, dout):\n",
    "        dx = dout * 1\n",
    "        dy = dout * 1\n",
    "        \n",
    "        return dx, dy"
   ]
  },
  {
   "cell_type": "markdown",
   "id": "15617932",
   "metadata": {},
   "source": [
    "<img src=\"./img/addlayer.png\" width=\"70%\" height=\"70%\"/>"
   ]
  },
  {
   "cell_type": "code",
   "execution_count": 5,
   "id": "db38ab77",
   "metadata": {},
   "outputs": [
    {
     "name": "stdout",
     "output_type": "stream",
     "text": [
      "715.0000000000001\n",
      "110.00000000000001 2.2 3.3000000000000003 165.0 650\n"
     ]
    }
   ],
   "source": [
    "apple = 100\n",
    "apple_num = 2\n",
    "orange = 150\n",
    "orange_num = 3\n",
    "tax =1.1\n",
    "\n",
    "# 계층들\n",
    "mul_apple_layer = MulLayer()\n",
    "mul_orange_layer = MulLayer()\n",
    "add_apple_orange_layer = AddLayer()\n",
    "mul_tax_layer = MulLayer()\n",
    "\n",
    "apple_price = mul_apple_layer.forward(apple, apple_num)\n",
    "orange_price = mul_orange_layer.forward(orange, orange_num)\n",
    "all_price = add_apple_orange_layer.forward(apple_price, orange_price)\n",
    "price = mul_tax_layer.forward(all_price, tax)\n",
    "\n",
    "dprice = 1\n",
    "dall_price, dtax = mul_tax_layer.backward(dprice)\n",
    "dapple_prcie, dorange_price = add_apple_orange_layer.backward(dall_price)\n",
    "dorange, dorange_num = mul_orange_layer.backward(dorange_price)\n",
    "dapple, dapple_num = mul_apple_layer.backward(dapple_price)\n",
    "\n",
    "print(price)\n",
    "print(dapple_num, dapple, dorange, dorange_num, dtax)"
   ]
  },
  {
   "cell_type": "markdown",
   "id": "948269d0",
   "metadata": {},
   "source": [
    "# <span style=\"color:#2834d4\">활성화 함수 계층 구현하기</span>"
   ]
  },
  {
   "cell_type": "markdown",
   "id": "0c9cc8ff",
   "metadata": {},
   "source": [
    "## 1. ReLU 계층\n",
    "\n",
    "### $y = max(x, 0)$\n",
    "### $\\frac{\\partial y}{\\partial x} = \\begin{cases} 1 & (x > 0) \\\\ 0 & (x \\le 0) \\end{cases} $ \n",
    "\n",
    "<img src=\"./img/relulayer.png\" width=\"70%\" height=\"70%\"/>"
   ]
  },
  {
   "cell_type": "code",
   "execution_count": 6,
   "id": "63b1eacf",
   "metadata": {},
   "outputs": [],
   "source": [
    "class Relu:\n",
    "    def __init__(self):\n",
    "        self.mask = None\n",
    "        \n",
    "    def forward(self, x):\n",
    "        self.mask = (x<=0)  # x의 원소값 중 0 이하인 인덱스는 True, 그 외는 False\n",
    "        out = x.copy()\n",
    "        out[self.mask] = 0\n",
    "        \n",
    "        return out\n",
    "    \n",
    "    def backward(self, dout):\n",
    "        dout[self.mask] = 0  # 입력 값이 0 이하면 역전파 때의 값은 0\n",
    "        dx = dout\n",
    "        \n",
    "        return dx"
   ]
  },
  {
   "cell_type": "markdown",
   "id": "1a19feaf",
   "metadata": {},
   "source": [
    "## 2. sigmoid 계층\n",
    "\n",
    "### $y = \\frac{1}{1 + exp(-x)}$\n",
    "- $y = \\frac{1}{x}$ \n",
    "    - $\\frac{\\partial y}{\\partial x} = -\\frac{1}{x^2} = -y^2$\n",
    "- $y = exp(x)$\n",
    "    - $\\frac{\\partial y}{\\partial x} = exp(x)$\n",
    "\n",
    "<img src=\"./img/sigmoidlayer1.png\" width=\"70%\" height=\"70%\" align='left'/><br>\n",
    "<img src=\"./img/sigmoidlayer2.png\" width=\"40%\" height=\"40%\" align='left'/><br>\n",
    "\n",
    "\n",
    "### $\\begin{matrix} \\frac{\\partial L}{\\partial y} y^2 exp(-x) &=& \\frac{\\partial L}{\\partial y} \\frac{1}{(1+exp(-x))^2} exp(-x) \\\\ &=& \\frac{\\partial L}{\\partial y} \\frac{1}{1+exp(-x)} \\frac{exp(-x)}{1+exp(-x)} \\\\ &=& \\frac{\\partial L}{\\partial y} y (1-y) \\end{matrix}$\n",
    "<img src=\"./img/sigmoidlayer3.png\" width=\"70%\" height=\"70%\" align='left'/>"
   ]
  },
  {
   "cell_type": "code",
   "execution_count": 7,
   "id": "88caf959",
   "metadata": {},
   "outputs": [],
   "source": [
    "class Sigmoid:\n",
    "    def __init__(self):\n",
    "        self.out = None\n",
    "        \n",
    "    def forward(self, x):\n",
    "        out = 1 / (1 + np.exp(-x))\n",
    "        self.out = out\n",
    "        \n",
    "        return out\n",
    "    \n",
    "    def backward(self, dout):\n",
    "        dx = dout * (1.0 - self.out) * self.out\n",
    "        \n",
    "        return dx"
   ]
  },
  {
   "cell_type": "markdown",
   "id": "0784b53d",
   "metadata": {},
   "source": [
    "## 3. Affine 계층 (배치용)\n",
    "\n",
    "- Affine transformation : 신경망의 순전파 때 수행하는 행렬의 곱\n",
    "\n",
    "### $\\mathbf Y = \\mathbf X \\cdot \\mathbf W + \\mathbf B$\n",
    "### $\\frac{\\partial L}{\\partial \\mathbf X} = \\frac{\\partial L}{\\partial \\mathbf Y} \\cdot \\mathbf W^T$, $\\frac{\\partial L}{\\partial \\mathbf W} = \\mathbf X^T \\cdot \\frac{\\partial L}{\\partial \\mathbf Y}$, $\\frac{\\partial L}{\\partial \\mathbf B} = \\frac{\\partial L}{\\partial \\mathbf Y}$ <br>\n",
    "\n",
    "<img src=\"./img/affinelayer.png\" width=\"70%\" height=\"70%\" align='left'/><br>"
   ]
  },
  {
   "cell_type": "code",
   "execution_count": 8,
   "id": "ce105964",
   "metadata": {},
   "outputs": [],
   "source": [
    "class Affine:\n",
    "    def __init__(self, W, b):\n",
    "        self.W = W\n",
    "        self.b = b\n",
    "        self.x = None\n",
    "        self.dW = None\n",
    "        self.db = None\n",
    "        \n",
    "    def forward(self, x):\n",
    "        self.x = x\n",
    "        out = np.dot(x, self.W) + self.b\n",
    "        \n",
    "        return out\n",
    "    \n",
    "    def backward(self, dout):\n",
    "        dx = np.dot(dout, self.W.T)\n",
    "        self.dW = np.dot(self.x.T, dout)\n",
    "        self.db = np.sum(dout, axis=0)\n",
    "        \n",
    "        return dx"
   ]
  },
  {
   "cell_type": "markdown",
   "id": "77442f06",
   "metadata": {},
   "source": [
    "## 4. Softmax-with-Loss 계층\n",
    "\n",
    "신경망에서 수행하는 작업: 학습, 추론\n",
    "- 신경망 추론에서는 답을 하나만 내는 경우에는 가장 큰 값만 알면 되기 때문에 softmax 계층은 필요 없음\n",
    "- 신경망을 학습할 때는 softmax 계층이 필요함\n",
    "<br>\n",
    "softmax function의 손실함수로 cross entropy error를 사용하면 역전파의 결과가 깔끔하게 떨어짐\n",
    "<img src=\"./img/softmaxbackward.jpg\" width=\"100%\" height=\"100%\" align='left'/><br>\n",
    "<img src=\"./img/softmaxwithloss.png\" width=\"70%\" height=\"70%\" align='left'/><br>"
   ]
  },
  {
   "cell_type": "code",
   "execution_count": 9,
   "id": "47f1dfe5",
   "metadata": {},
   "outputs": [],
   "source": [
    "from common.layers import softmax\n",
    "\n",
    "class SoftmaxWithLoss:\n",
    "    def __init__(self):\n",
    "        self.loss = None  # 손실\n",
    "        self.y = None  # softmax의 출력\n",
    "        self.t = None  # 정답 레이블(원-핫 벡터)\n",
    "        \n",
    "    def forward(self, x, t):\n",
    "        self.t = t\n",
    "        self.y = softmax(x)\n",
    "        self.loss = cross_entropy_error(self.y, self.t)\n",
    "        \n",
    "        return self.loss\n",
    "    \n",
    "    def backward(self, dout=1):\n",
    "        batch_size = self.t.shape[0]\n",
    "        if self.t.size == self.y.size: # 정답 레이블이 원-핫 인코딩 형태일 때\n",
    "            dx = (self.y - self.t) / batch_size\n",
    "        else:\n",
    "            dx = self.y.copy()\n",
    "            dx[np.arange(batch_size), self.t] -= 1\n",
    "            dx = dx / batch_size\n",
    "        \n",
    "        return dx"
   ]
  },
  {
   "cell_type": "markdown",
   "id": "1622dc3e",
   "metadata": {},
   "source": [
    "# <span style=\"color:#2834d4\">오차역전파법 구현하기</span>"
   ]
  },
  {
   "cell_type": "markdown",
   "id": "7fbbc255",
   "metadata": {},
   "source": [
    "## 1. 오차역전파법을 적용한 신경망 구현하기"
   ]
  },
  {
   "cell_type": "code",
   "execution_count": 10,
   "id": "c29015a6",
   "metadata": {},
   "outputs": [],
   "source": [
    "from common.functions import cross_entropy_error\n",
    "from common.gradient import numerical_gradient\n",
    "from collections import OrderedDict\n",
    "\n",
    "class TwoLayerNet:\n",
    "    def __init__(self, input_size, hidden_size, output_size, weight_init_std=0.01):\n",
    "        # 가중치 초기화\n",
    "        self.params = {}\n",
    "        self.params['W1'] = weight_init_std * np.random.randn(input_size, hidden_size)\n",
    "        self.params['b1'] = np.zeros(hidden_size)\n",
    "        self.params['W2'] = weight_init_std * np.random.randn(hidden_size, output_size)\n",
    "        self.params['b2'] = np.zeros(output_size)\n",
    "        \n",
    "        # 계층 생성\n",
    "        self.layers = OrderedDict()\n",
    "        self.layers['Affine1'] = Affine(self.params['W1'], self.params['b1'])\n",
    "        self.layers['Relu1'] = Relu()\n",
    "        self.layers['Affine2'] = Affine(self.params['W2'], self.params['b2'])\n",
    "        \n",
    "        self.lastLayer = SoftmaxWithLoss()\n",
    "        \n",
    "        \n",
    "    def predict(self, x):\n",
    "        for layer in self.layers.values():\n",
    "            x = layer.forward(x)\n",
    "        \n",
    "        return x\n",
    "    \n",
    "    \n",
    "    def loss(self, x, t):\n",
    "        y = self.predict(x)\n",
    "        \n",
    "        return self.lastLayer.forward(y, t)\n",
    "    \n",
    "    \n",
    "    def accuracy(self, x, t):\n",
    "        y = self.predict(x)\n",
    "        y = np.argmax(y, axis=1)\n",
    "        if t.ndim != 1:\n",
    "            t = np.argmax(t, axis=1)\n",
    "            \n",
    "        accuracy = np.sum(y==t) / float(x.shape[0])\n",
    "        \n",
    "        return accuracy\n",
    "    \n",
    "    \n",
    "    def numerical_gradient(self, x, t):\n",
    "        loss_W = lambda W: self.loss(x, t)\n",
    "        \n",
    "        grads = {}\n",
    "        grads['W1'] = numerical_gradient(loss_W, self.params['W1'])\n",
    "        grads['b1'] = numerical_gradient(loss_W, self.params['b1'])\n",
    "        grads['W2'] = numerical_gradient(loss_W, self.params['W2'])\n",
    "        grads['b2'] = numerical_gradient(loss_W, self.params['b2'])\n",
    "        \n",
    "        return grads\n",
    "    \n",
    "    \n",
    "    def gradient(self, x, t):\n",
    "        # 순전파\n",
    "        self.loss(x, t)\n",
    "        \n",
    "        # 역전파\n",
    "        dout = 1\n",
    "        dout = self.lastLayer.backward(dout)\n",
    "        \n",
    "        layers = list(self.layers.values())\n",
    "        layers.reverse()\n",
    "        for layer in layers:\n",
    "            dout = layer.backward(dout)\n",
    "            \n",
    "        # 결과 저장\n",
    "        grads = {}\n",
    "        grads['W1'] = self.layers['Affine1'].dW\n",
    "        grads['b1'] = self.layers['Affine1'].db\n",
    "        grads['W2'] = self.layers['Affine2'].dW\n",
    "        grads['b2'] = self.layers['Affine2'].db\n",
    "        \n",
    "        return grads"
   ]
  },
  {
   "cell_type": "markdown",
   "id": "c4a847c0",
   "metadata": {},
   "source": [
    "## 2. 오차역전파법을 사용한 학습 구현하기"
   ]
  },
  {
   "cell_type": "code",
   "execution_count": 11,
   "id": "5ef0b36b",
   "metadata": {
    "scrolled": false
   },
   "outputs": [
    {
     "name": "stdout",
     "output_type": "stream",
     "text": [
      "0.07788333333333333 0.0787\n",
      "0.90005 0.9034\n",
      "0.9235833333333333 0.9258\n",
      "0.9364833333333333 0.9362\n",
      "0.9464666666666667 0.9448\n",
      "0.9541833333333334 0.9526\n",
      "0.9571 0.954\n",
      "0.9620833333333333 0.9574\n",
      "0.9651166666666666 0.9603\n",
      "0.9673 0.9628\n",
      "0.9707 0.965\n",
      "0.97225 0.9653\n",
      "0.9748166666666667 0.9673\n",
      "0.9752 0.9679\n",
      "0.9774 0.9692\n",
      "0.9786833333333333 0.9706\n",
      "0.9799833333333333 0.9712\n"
     ]
    }
   ],
   "source": [
    "import sys, os\n",
    "sys.path.append(os.pardir)\n",
    "import numpy as np\n",
    "from dataset.mnist import load_mnist\n",
    "\n",
    "# 데이터 읽기\n",
    "(x_train, t_train), (x_test, t_test) = load_mnist(normalize=True, one_hot_label=True)\n",
    "network = TwoLayerNet(input_size=784, hidden_size=50, output_size=10)\n",
    "\n",
    "iters_num = 10000\n",
    "train_size = x_train.shape[0]\n",
    "batch_size = 100\n",
    "learning_rate = 0.1\n",
    "\n",
    "train_loss_list = []\n",
    "train_acc_list = []\n",
    "test_acc_list = []\n",
    "\n",
    "iter_per_epoch = max(train_size/batch_size, 1)\n",
    "\n",
    "for i in range(iters_num):\n",
    "    batch_mask = np.random.choice(train_size, batch_size)\n",
    "    x_batch = x_train[batch_mask]\n",
    "    t_batch = t_train[batch_mask]\n",
    "    \n",
    "    # 오차역전파법으로 기울기 구하기\n",
    "    grad = network.gradient(x_batch, t_batch)\n",
    "    \n",
    "    # 갱신\n",
    "    for key in ('W1', 'b1', 'W2', 'b2'):\n",
    "        network.params[key] -= learning_rate * grad[key]\n",
    "        \n",
    "    loss = network.loss(x_batch, t_batch)\n",
    "    train_loss_list.append(loss)\n",
    "    \n",
    "    if i % iter_per_epoch == 0:\n",
    "        train_acc = network.accuracy(x_train, t_train)\n",
    "        test_acc = network.accuracy(x_test, t_test)\n",
    "        train_acc_list.append(train_acc)\n",
    "        test_acc_list.append(test_acc)\n",
    "        print(train_acc, test_acc)"
   ]
  },
  {
   "cell_type": "markdown",
   "id": "04fa3f89",
   "metadata": {},
   "source": [
    "## 3. 오차역전파법으로 구한 기울기 검증하기"
   ]
  },
  {
   "cell_type": "code",
   "execution_count": 12,
   "id": "3401d295",
   "metadata": {},
   "outputs": [
    {
     "name": "stdout",
     "output_type": "stream",
     "text": [
      "W1:4.1015241101088167e-10\n",
      "b1:2.4854103057928013e-09\n",
      "W2:5.058266813590703e-09\n",
      "b2:1.4045312727445358e-07\n"
     ]
    }
   ],
   "source": [
    "import sys, os\n",
    "sys.path.append(os.pardir)\n",
    "import numpy as np\n",
    "from dataset.mnist import load_mnist\n",
    "\n",
    "# 데이터 읽기\n",
    "(x_train, t_train), (x_test, t_test) = load_mnist(normalize=True, one_hot_label=True)\n",
    "network = TwoLayerNet(input_size=784, hidden_size=50, output_size=10)\n",
    "\n",
    "x_batch = x_train[:3]\n",
    "t_batch = t_batch[:3]\n",
    "\n",
    "grad_numerical = network.numerical_gradient(x_batch, t_batch)\n",
    "grad_backprop = network.gradient(x_batch, t_batch)\n",
    "\n",
    "# 각 가중치의 차이의 절대값을 구한 후, 그 절대값들의 평균을 구함\n",
    "for key in grad_numerical.keys():\n",
    "    diff = np.average(np.abs(grad_backprop[key] - grad_numerical[key]))\n",
    "    print(key + \":\" + str(diff))"
   ]
  },
  {
   "cell_type": "markdown",
   "id": "68f44078",
   "metadata": {},
   "source": [
    "4.1015241101088167e-10 (0.00000000041) <br>\n",
    "2.4854103057928013e-09 (0.00000000248) <br>\n",
    "5.058266813590703e-09  (0.00000000505) <br>\n",
    "1.4045312727445358e-07 (0.00000001404)"
   ]
  },
  {
   "cell_type": "markdown",
   "id": "dc9d313e",
   "metadata": {},
   "source": [
    "# <span style=\"color:#2834d4\">정리</span>\n",
    "\n",
    "- 계산 그래프를 이용하면 계산 과정을 시각적으로 표현 가능.\n",
    "    - 계산 그래프의 노드는 국소적 계산으로 구성. 국소적 계산을 조합해 전체 계산을 구성.\n",
    "- 계산 그래프의 역전파로 각 노드의 미분을 구할 수 있음.\n",
    "- 신경망의 구성 요소를 계층적으로 구현해 기울기는 효율적으로 계산할 수 있음 (오차역전파법).\n",
    "- 수치 미분과 오차역전파법의 결과를 비교하면 오차역전파법의 구현에 잘못이 없는지 확인할 수 있음 (기울기 확인)."
   ]
  }
 ],
 "metadata": {
  "kernelspec": {
   "display_name": "Python 3 (ipykernel)",
   "language": "python",
   "name": "python3"
  },
  "language_info": {
   "codemirror_mode": {
    "name": "ipython",
    "version": 3
   },
   "file_extension": ".py",
   "mimetype": "text/x-python",
   "name": "python",
   "nbconvert_exporter": "python",
   "pygments_lexer": "ipython3",
   "version": "3.7.13"
  }
 },
 "nbformat": 4,
 "nbformat_minor": 5
}
