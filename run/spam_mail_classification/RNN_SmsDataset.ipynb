{
 "cells": [
  {
   "cell_type": "markdown",
   "metadata": {
    "id": "ITSLKyhHBwID"
   },
   "source": [
    "# RNN으로 스팸메일 분류하기\n",
    "\n",
    "- dataset: https://www.kaggle.com/datasets/uciml/sms-spam-collection-dataset"
   ]
  },
  {
   "cell_type": "code",
   "execution_count": null,
   "metadata": {
    "id": "CpAqNrCABoCO"
   },
   "outputs": [],
   "source": [
    "from nltk.tokenize import TreebankWordTokenizer\n",
    "\n",
    "class Vocabulary:\n",
    "\n",
    "    def __init__(self, dataset, min_freq):\n",
    "        self.itos = {0: '<PAD>', 1: '<UNK>'}\n",
    "        self.stoi = {k:j for j,k in self.itos.items()}\n",
    "        self.dataset = dataset\n",
    "        self.min_freq = min_freq\n",
    "        self.build_vocabulary()\n",
    "\n",
    "    def __len__(self):\n",
    "        return len(self.itos)\n",
    "\n",
    "    def tokenize(self, text):\n",
    "        tokenizer = TreebankWordTokenizer()\n",
    "        return tokenizer.tokenize(text.strip().lower())\n",
    "\n",
    "    def build_vocabulary(self):\n",
    "        from collections import defaultdict\n",
    "        voca_dict = defaultdict(int)\n",
    "        voca_list = []\n",
    "        for data in self.dataset:\n",
    "            for word in self.tokenize(data):\n",
    "                voca_dict[word] += 1\n",
    "\n",
    "        for k, v in voca_dict.items():\n",
    "            if v >= self.min_freq:\n",
    "                voca_list.append(k)\n",
    "\n",
    "        for i, voca in enumerate(voca_list):\n",
    "            self.itos[i+2] = voca\n",
    "            self.stoi[voca] = i+2\n",
    "\n",
    "    def word2num(self, tokenized_text):\n",
    "        word2num_text = []\n",
    "        for token in tokenized_text:\n",
    "            if token in self.stoi:\n",
    "                word2num_text.append(self.stoi[token])\n",
    "            else:\n",
    "                word2num_text.append(self.stoi['<UNK>'])\n",
    "\n",
    "        return word2num_text"
   ]
  },
  {
   "cell_type": "markdown",
   "metadata": {
    "id": "1l4xS67fB0eg"
   },
   "source": [
    "## Load and split dataset"
   ]
  },
  {
   "cell_type": "code",
   "execution_count": null,
   "metadata": {
    "id": "_0j0o64GBz32"
   },
   "outputs": [],
   "source": [
    "import pandas as pd\n",
    "\n",
    "# ===== Load dataset =====\n",
    "df = pd.read_csv('spam.csv', encoding='latin-1')\n",
    "df = df.loc[:, ['v1', 'v2']]\n",
    "df.dropna(inplace=True)\n",
    "df['v1'] = df['v1'].replace(['ham','spam'],[0,1])\n",
    "df.drop_duplicates(inplace=True)\n",
    "\n",
    "X = df['v2'].to_list()\n",
    "Y = df['v1'].to_list()"
   ]
  },
  {
   "cell_type": "code",
   "execution_count": null,
   "metadata": {
    "id": "ZnsT3m6HB48P"
   },
   "outputs": [],
   "source": [
    "# ===== bulid vocabulary =====\n",
    "vocab = Vocabulary(X, min_freq=3)"
   ]
  },
  {
   "cell_type": "code",
   "execution_count": null,
   "metadata": {
    "colab": {
     "base_uri": "https://localhost:8080/"
    },
    "id": "pn0kpz9oB5_P",
    "outputId": "dc2c924e-2c01-425b-d4d5-6968f14d9b12"
   },
   "outputs": [
    {
     "name": "stdout",
     "output_type": "stream",
     "text": [
      "78\n"
     ]
    }
   ],
   "source": [
    "seq_lens = []\n",
    "for x in X:\n",
    "    seq_lens.append(len(x))\n",
    "\n",
    "max_len = sum(seq_lens)//len(X)\n",
    "print(max_len)"
   ]
  },
  {
   "cell_type": "code",
   "execution_count": null,
   "metadata": {
    "colab": {
     "base_uri": "https://localhost:8080/"
    },
    "id": "JP4PZ6dYB7Hi",
    "outputId": "648899b4-c3bd-47ef-a141-1ac783474996"
   },
   "outputs": [
    {
     "name": "stdout",
     "output_type": "stream",
     "text": [
      "train - total: 3618개, ham: 3154개, spam: 464개\n",
      "test - total: 1551개, ham: 1362개, spam: 189개\n"
     ]
    }
   ],
   "source": [
    "# ===== Split dataset =====\n",
    "# train : test = 0.7: 0.3\n",
    "train_idx = int(len(X)*0.7)\n",
    "train_x, train_y = X[:train_idx], Y[:train_idx]\n",
    "test_x, test_y = X[train_idx:], Y[train_idx:]\n",
    "\n",
    "print(f\"train - total: {len(train_x)}개, ham: {train_y.count(0)}개, spam: {train_y.count(1)}개\")\n",
    "print(f\"test - total: {len(test_x)}개, ham: {test_y.count(0)}개, spam: {test_y.count(1)}개\")"
   ]
  },
  {
   "cell_type": "markdown",
   "metadata": {
    "id": "rB7IVWU9B758"
   },
   "source": [
    "## Custom Dataset"
   ]
  },
  {
   "cell_type": "code",
   "execution_count": null,
   "metadata": {
    "id": "H51Zqw32B9sJ"
   },
   "outputs": [],
   "source": [
    "import torch.utils.data as data\n",
    "\n",
    "class SmsDataset(data.Dataset):\n",
    "    def __init__(self, text, label, vocab, max_len):\n",
    "        super(SmsDataset, self).__init__()\n",
    "\n",
    "        self.text = text\n",
    "        self.label = label\n",
    "        self.vocab = vocab\n",
    "        self.max_len = max_len\n",
    "\n",
    "    def __getitem__(self, idx):\n",
    "        tmp_text = self.vocab.tokenize(self.text[idx])\n",
    "        if len(tmp_text) > self.max_len:\n",
    "            tmp_text = tmp_text[:self.max_len]\n",
    "        else:\n",
    "            tmp_text = tmp_text + [\"<PAD>\"]*(self.max_len - len(tmp_text))\n",
    "\n",
    "        return {'text': torch.Tensor(self.vocab.word2num(tmp_text)).to(torch.int32), 'label': self.label[idx]}\n",
    "\n",
    "    def __len__(self):\n",
    "        return len(self.text)"
   ]
  },
  {
   "cell_type": "code",
   "execution_count": null,
   "metadata": {
    "id": "-Hoj7l0sB-8F"
   },
   "outputs": [],
   "source": [
    "train_set = SmsDataset(train_x, train_y, vocab, max_len=max_len)\n",
    "test_set = SmsDataset(test_x, test_y, vocab, max_len=max_len)"
   ]
  },
  {
   "cell_type": "markdown",
   "metadata": {
    "id": "TWTyfc-BB_p2"
   },
   "source": [
    "## Model Define"
   ]
  },
  {
   "cell_type": "code",
   "execution_count": null,
   "metadata": {
    "id": "iXm7eCzFCCpO"
   },
   "outputs": [],
   "source": [
    "import torch\n",
    "import torch.nn as nn\n",
    "\n",
    "class RNN(nn.Module):\n",
    "    def __init__(self, batch_size, embedding_size, hidden_size, output_size, vocab_size, n_layers):\n",
    "        super(RNN, self).__init__()\n",
    "\n",
    "        self.batch_size = batch_size\n",
    "        self.embedding_size = embedding_size\n",
    "        self.hidden_size = hidden_size\n",
    "        self.output_size = output_size\n",
    "\n",
    "        self.embedding = nn.Embedding(vocab_size, embedding_size, padding_idx=0)\n",
    "        self.rnn = nn.RNN(input_size=embedding_size,\n",
    "                          hidden_size=hidden_size,\n",
    "                          num_layers=n_layers,\n",
    "                          batch_first=True,\n",
    "                          bias=False) # tanh(W_x*x_t + W_h*h_t-1)\n",
    "        self.fc = nn.Linear(hidden_size, output_size, bias = False) # W_y*h_t\n",
    "        self.softmax = nn.LogSoftmax(dim=1)\n",
    "\n",
    "    def forward(self, x):\n",
    "        x = self.embedding(x)\n",
    "        output, h_n = self.rnn(x)\n",
    "        output = self.softmax(self.fc(output[:, -1, :]))\n",
    "\n",
    "        return output"
   ]
  },
  {
   "cell_type": "markdown",
   "metadata": {
    "id": "PEcng78HCET4"
   },
   "source": [
    "## Train"
   ]
  },
  {
   "cell_type": "code",
   "execution_count": null,
   "metadata": {
    "id": "7xO3hBvSCGli"
   },
   "outputs": [],
   "source": [
    "def train(model, loss_fn, optimizer, train_loader):\n",
    "    model.train()\n",
    "\n",
    "    cur_loss = 0\n",
    "\n",
    "    for i, data in enumerate(train_loader):\n",
    "        model.zero_grad()\n",
    "        optimizer.zero_grad()\n",
    "\n",
    "        texts = data['text']\n",
    "        y_true = data['label']\n",
    "\n",
    "        outputs = model(texts)\n",
    "\n",
    "        loss = loss_fn(outputs, y_true)\n",
    "        loss.backward()\n",
    "        optimizer.step()\n",
    "        cur_loss += loss.item()\n",
    "\n",
    "    return outputs, cur_loss/(len(train_loader))"
   ]
  },
  {
   "cell_type": "code",
   "execution_count": null,
   "metadata": {
    "id": "W_KkQWfoCE0a"
   },
   "outputs": [],
   "source": [
    "epochs = 100\n",
    "learning_rate = 0.001\n",
    "batch_size = 64\n",
    "embedding_size = 32\n",
    "hidden_size = 32\n",
    "num_class = 2\n",
    "n_layers = 2"
   ]
  },
  {
   "cell_type": "code",
   "execution_count": null,
   "metadata": {
    "colab": {
     "base_uri": "https://localhost:8080/"
    },
    "id": "hK2F2SISCHpx",
    "outputId": "19b57a33-4065-4e4d-d138-4bda8eed3dd0"
   },
   "outputs": [
    {
     "name": "stdout",
     "output_type": "stream",
     "text": [
      "epoch 5 - loss: 0.4665969046098845\n",
      "epoch 10 - loss: 0.4599743168801069\n",
      "epoch 15 - loss: 0.46881108624594553\n",
      "epoch 20 - loss: 0.47833204322627615\n",
      "epoch 25 - loss: 0.4702507693852697\n",
      "epoch 30 - loss: 0.5080083800213677\n",
      "epoch 35 - loss: 0.4597058727272919\n",
      "epoch 40 - loss: 0.4477932479764734\n",
      "epoch 45 - loss: 0.44426523947290014\n",
      "epoch 50 - loss: 0.45393451516117367\n",
      "epoch 55 - loss: 0.4173325773860727\n",
      "epoch 60 - loss: 0.42223076256258146\n",
      "epoch 65 - loss: 0.42234617844223976\n",
      "epoch 70 - loss: 0.4485575349203178\n",
      "epoch 75 - loss: 0.4247156142124108\n",
      "epoch 80 - loss: 0.4265984169074467\n",
      "epoch 85 - loss: 0.4276671218020575\n",
      "epoch 90 - loss: 0.42798067230199066\n",
      "epoch 95 - loss: 0.4280381681663649\n",
      "epoch 100 - loss: 0.4274824447929859\n"
     ]
    }
   ],
   "source": [
    "import torch.optim as optim\n",
    "\n",
    "model = RNN(batch_size, embedding_size, hidden_size, num_class, len(vocab), n_layers)\n",
    "\n",
    "loss_fn = nn.NLLLoss()\n",
    "optimizer = optim.Adam(model.parameters(), lr=learning_rate)\n",
    "\n",
    "train_loader = data.DataLoader(train_set, batch_size, shuffle=True, drop_last=True)\n",
    "\n",
    "all_losses = []\n",
    "\n",
    "for i in range(1, epochs+1):\n",
    "    output, loss = train(model, loss_fn, optimizer, train_loader)\n",
    "    all_losses.append(loss)\n",
    "\n",
    "    if i%5==0:\n",
    "        print(f\"epoch {i} - loss: {loss}\")"
   ]
  },
  {
   "cell_type": "code",
   "execution_count": null,
   "metadata": {
    "colab": {
     "base_uri": "https://localhost:8080/"
    },
    "id": "GBZToaueCJGu",
    "outputId": "26598111-a3a8-483c-91a3-cb21411b37e7"
   },
   "outputs": [
    {
     "data": {
      "text/plain": [
       "[<matplotlib.lines.Line2D at 0x7fd31c38dae0>]"
      ]
     },
     "execution_count": 27,
     "metadata": {},
     "output_type": "execute_result"
    },
    {
     "data": {
      "image/png": "[encoded data removed]",
      "text/plain": [
       "<Figure size 640x480 with 1 Axes>"
      ]
     },
     "metadata": {},
     "output_type": "display_data"
    }
   ],
   "source": [
    "import matplotlib.pyplot as plt\n",
    "\n",
    "plt.figure()\n",
    "plt.ylim([0, 1.0])\n",
    "plt.plot(all_losses)"
   ]
  },
  {
   "cell_type": "markdown",
   "metadata": {
    "id": "CjhfvhFWCN94"
   },
   "source": [
    "## Evaluate"
   ]
  },
  {
   "cell_type": "code",
   "execution_count": null,
   "metadata": {
    "id": "fq07LaglNRHX"
   },
   "outputs": [],
   "source": [
    "from sklearn.metrics import f1_score, accuracy_score, confusion_matrix\n",
    "\n",
    "def evaluate(model, test_loader):\n",
    "    model.eval()\n",
    "    f1, acc = 0, 0\n",
    "    with torch.no_grad():\n",
    "        for i, data in enumerate(test_loader):\n",
    "            texts = data['text']\n",
    "            y_true = data['label']\n",
    "            output = model(texts)\n",
    "\n",
    "            _, y_pred = torch.max(output, 1)\n",
    "\n",
    "            f1 += f1_score(y_true, y_pred)\n",
    "            acc += accuracy_score(y_true, y_pred)\n",
    "\n",
    "    return f1/len(test_loader), acc/len(test_loader)"
   ]
  },
  {
   "cell_type": "code",
   "execution_count": null,
   "metadata": {
    "colab": {
     "base_uri": "https://localhost:8080/"
    },
    "id": "DINek4sDPyZp",
    "outputId": "6522c939-8264-4d53-8981-0df64c8daee9"
   },
   "outputs": [
    {
     "name": "stdout",
     "output_type": "stream",
     "text": [
      "0.2825329082682024 0.8411458333333334\n"
     ]
    }
   ],
   "source": [
    "test_loader = data.DataLoader(test_set, batch_size, shuffle=True, drop_last=True)\n",
    "\n",
    "f1, acc = evaluate(model, test_loader)\n",
    "print(f1, acc)"
   ]
  }
 ],
 "metadata": {
  "colab": {
   "provenance": []
  },
  "kernelspec": {
   "display_name": "Python 3 (ipykernel)",
   "language": "python",
   "name": "python3"
  },
  "language_info": {
   "codemirror_mode": {
    "name": "ipython",
    "version": 3
   },
   "file_extension": ".py",
   "mimetype": "text/x-python",
   "name": "python",
   "nbconvert_exporter": "python",
   "pygments_lexer": "ipython3",
   "version": "3.7.13"
  }
 },
 "nbformat": 4,
 "nbformat_minor": 1
}
