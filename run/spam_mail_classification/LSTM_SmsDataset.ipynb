{
 "cells": [
  {
   "cell_type": "markdown",
   "metadata": {
    "id": "0kzkDZmzio6a"
   },
   "source": [
    "function ClickConnect(){\n",
    "\tconsole.log(\"Working\");\n",
    "\tdocument.querySelector(\"colab-toolbar-button\").click()\n",
    "} setInterval(ClickConnect, 1800000)"
   ]
  },
  {
   "cell_type": "markdown",
   "metadata": {
    "id": "WhDgK-e34pCb"
   },
   "source": [
    "# LSTM으로 스팸 메일 분류하기\n",
    "\n",
    "- dataset: https://www.kaggle.com/datasets/uciml/sms-spam-collection-dataset"
   ]
  },
  {
   "cell_type": "code",
   "execution_count": null,
   "metadata": {
    "id": "yul_Ni0K4kQA"
   },
   "outputs": [],
   "source": [
    "from nltk.tokenize import TreebankWordTokenizer\n",
    "\n",
    "class Vocabulary:\n",
    "\n",
    "    def __init__(self, dataset, min_freq):\n",
    "        self.itos = {0: '<PAD>', 1: '<UNK>'}\n",
    "        self.stoi = {k:j for j,k in self.itos.items()}\n",
    "        self.dataset = dataset\n",
    "        self.min_freq = min_freq\n",
    "        self.build_vocabulary()\n",
    "\n",
    "    def __len__(self):\n",
    "        return len(self.itos)\n",
    "\n",
    "    def tokenize(self, text):\n",
    "        tokenizer = TreebankWordTokenizer()\n",
    "        return tokenizer.tokenize(text.strip().lower())\n",
    "\n",
    "    def build_vocabulary(self):\n",
    "        from collections import defaultdict\n",
    "        voca_dict = defaultdict(int)\n",
    "        voca_list = []\n",
    "        for data in self.dataset:\n",
    "            for word in self.tokenize(data):\n",
    "                voca_dict[word] += 1\n",
    "\n",
    "        for k, v in voca_dict.items():\n",
    "            if v >= self.min_freq:\n",
    "                voca_list.append(k)\n",
    "\n",
    "        for i, voca in enumerate(voca_list):\n",
    "            self.itos[i+2] = voca\n",
    "            self.stoi[voca] = i+2\n",
    "\n",
    "    def word2num(self, tokenized_text):\n",
    "        word2num_text = []\n",
    "        for token in tokenized_text:\n",
    "            if token in self.stoi:\n",
    "                word2num_text.append(self.stoi[token])\n",
    "            else:\n",
    "                word2num_text.append(self.stoi['<UNK>'])\n",
    "\n",
    "        return word2num_text"
   ]
  },
  {
   "cell_type": "markdown",
   "metadata": {
    "id": "VWEsFFEY5Q2P"
   },
   "source": [
    "## Load and split dataset"
   ]
  },
  {
   "cell_type": "code",
   "execution_count": null,
   "metadata": {
    "id": "YaLn2L9z5POw"
   },
   "outputs": [],
   "source": [
    "import pandas as pd\n",
    "\n",
    "# ===== Load dataset =====\n",
    "df = pd.read_csv('spam.csv', encoding='latin-1')\n",
    "df = df.loc[:, ['v1', 'v2']]\n",
    "df.dropna(inplace=True)\n",
    "df['v1'] = df['v1'].replace(['ham','spam'],[0,1])\n",
    "df.drop_duplicates(inplace=True)\n",
    "\n",
    "X = df['v2'].to_list()\n",
    "Y = df['v1'].to_list()"
   ]
  },
  {
   "cell_type": "code",
   "execution_count": null,
   "metadata": {
    "id": "I0R9Nj1d5Tdu"
   },
   "outputs": [],
   "source": [
    "# ===== bulid vocabulary =====\n",
    "vocab = Vocabulary(X, min_freq=3)"
   ]
  },
  {
   "cell_type": "code",
   "execution_count": null,
   "metadata": {
    "colab": {
     "base_uri": "https://localhost:8080/"
    },
    "id": "77_WqZAS5Up5",
    "outputId": "aaf25671-c734-48a4-da3c-9844ec6b4996"
   },
   "outputs": [
    {
     "name": "stdout",
     "output_type": "stream",
     "text": [
      "78\n"
     ]
    }
   ],
   "source": [
    "seq_lens = []\n",
    "for x in X:\n",
    "    seq_lens.append(len(x))\n",
    "\n",
    "max_len = sum(seq_lens)//len(X)\n",
    "print(max_len)"
   ]
  },
  {
   "cell_type": "code",
   "execution_count": null,
   "metadata": {
    "colab": {
     "base_uri": "https://localhost:8080/"
    },
    "id": "uWfbvOSL5V2_",
    "outputId": "d48d4b51-6d17-4ee5-8774-98ec94adea12"
   },
   "outputs": [
    {
     "name": "stdout",
     "output_type": "stream",
     "text": [
      "train - total: 3618개, ham: 3154개, spam: 464개\n",
      "test - total: 1551개, ham: 1362개, spam: 189개\n"
     ]
    }
   ],
   "source": [
    "# ===== Split dataset =====\n",
    "# train : test = 0.7: 0.3\n",
    "train_idx = int(len(X)*0.7)\n",
    "train_x, train_y = X[:train_idx], Y[:train_idx]\n",
    "test_x, test_y = X[train_idx:], Y[train_idx:]\n",
    "\n",
    "print(f\"train - total: {len(train_x)}개, ham: {train_y.count(0)}개, spam: {train_y.count(1)}개\")\n",
    "print(f\"test - total: {len(test_x)}개, ham: {test_y.count(0)}개, spam: {test_y.count(1)}개\")"
   ]
  },
  {
   "cell_type": "markdown",
   "metadata": {
    "id": "cCRZkFiL5Z86"
   },
   "source": [
    "## Custom Dataset"
   ]
  },
  {
   "cell_type": "code",
   "execution_count": null,
   "metadata": {
    "id": "_EgrW4pn5bYy"
   },
   "outputs": [],
   "source": [
    "import torch\n",
    "import torch.utils.data as data\n",
    "\n",
    "class SmsDataset(data.Dataset):\n",
    "    def __init__(self, text, label, vocab, max_len):\n",
    "        super(SmsDataset, self).__init__()\n",
    "\n",
    "        self.text = text\n",
    "        self.label = label\n",
    "        self.vocab = vocab\n",
    "        self.max_len = max_len\n",
    "\n",
    "    def __getitem__(self, idx):\n",
    "        tmp_text = self.vocab.tokenize(self.text[idx])\n",
    "        if len(tmp_text) > self.max_len:\n",
    "            tmp_text = tmp_text[:self.max_len]\n",
    "        else:\n",
    "            tmp_text = tmp_text + [\"<PAD>\"]*(self.max_len - len(tmp_text))\n",
    "\n",
    "        return {'text': torch.Tensor(self.vocab.word2num(tmp_text)).to(torch.int32), 'label': self.label[idx]}\n",
    "\n",
    "    def __len__(self):\n",
    "        return len(self.text)"
   ]
  },
  {
   "cell_type": "code",
   "execution_count": null,
   "metadata": {
    "id": "SMv7OXxQ5dgU"
   },
   "outputs": [],
   "source": [
    "train_set = SmsDataset(train_x, train_y, vocab, max_len=max_len)\n",
    "test_set = SmsDataset(test_x, test_y, vocab, max_len=max_len)"
   ]
  },
  {
   "cell_type": "markdown",
   "metadata": {
    "id": "Dl9Jeg7_ZfTS"
   },
   "source": [
    "## Model Define - LSTM Cell 구현하여 사용"
   ]
  },
  {
   "cell_type": "code",
   "execution_count": null,
   "metadata": {
    "id": "Sd1JHsaXGikS"
   },
   "outputs": [],
   "source": [
    "import torch.nn as nn\n",
    "\n",
    "class LSTMCell(nn.Module):\n",
    "    def __init__(self, input_size, hidden_size, output_size):\n",
    "        super(LSTMCell, self).__init__()\n",
    "\n",
    "        self.input_size = input_size\n",
    "        self.hidden_size = hidden_size\n",
    "        self.output_size = output_size\n",
    "\n",
    "        self.W_ih = nn.Linear(self.input_size, 4 * self.hidden_size, bias=True)\n",
    "        self.W_hh = nn.Linear(self.hidden_size, 4 * self.hidden_size, bias=True)\n",
    "        self.sigmoid = nn.Sigmoid()\n",
    "        self.tanh = nn.Tanh()\n",
    "\n",
    "    def forward(self, x, h, c):\n",
    "        gates = self.W_ih(x) + self.W_hh(h)\n",
    "        f, i, g, o = gates.chunk(4, dim=1)\n",
    "        f_t = self.sigmoid(f)\n",
    "        i_t = self.sigmoid(i)\n",
    "        g_t = self.tanh(g)\n",
    "        o_t = self.sigmoid(o)\n",
    "\n",
    "        c = torch.mul(f_t, c) + torch.mul(i_t,g_t)\n",
    "        h = torch.mul(o_t, self.tanh(c))\n",
    "\n",
    "        return h, c"
   ]
  },
  {
   "cell_type": "code",
   "execution_count": null,
   "metadata": {
    "id": "mOE3COBOLFMM"
   },
   "outputs": [],
   "source": [
    "class LSTM(nn.Module):\n",
    "    def __init__(self, input_size, hidden_size, output_size, vocab_size):\n",
    "        super(LSTM, self).__init__()\n",
    "\n",
    "        self.input_size = input_size\n",
    "        self.hidden_size = hidden_size\n",
    "        self.output_size = output_size\n",
    "\n",
    "        self.emb = nn.Embedding(vocab_size, input_size, padding_idx=0)\n",
    "        self.lstm = LSTMCell(input_size, hidden_size, output_size)\n",
    "\n",
    "        self.fc = nn.Linear(self.hidden_size, self.output_size)\n",
    "        self.softmax = nn.LogSoftmax(dim=1)\n",
    "\n",
    "    def forward(self, x):\n",
    "        h = torch.zeros(1, self.hidden_size)\n",
    "        c = torch.zeros(1, self.hidden_size)\n",
    "        for x_t in x:\n",
    "            x_t = self.emb(x_t).unsqueeze(0)\n",
    "            h, c = self.lstm(x_t, h, c)\n",
    "        output = self.softmax(self.fc(h))\n",
    "\n",
    "        return output"
   ]
  },
  {
   "cell_type": "markdown",
   "metadata": {
    "id": "M61tJJhZVDK1"
   },
   "source": [
    "### Train"
   ]
  },
  {
   "cell_type": "code",
   "execution_count": null,
   "metadata": {
    "colab": {
     "base_uri": "https://localhost:8080/"
    },
    "id": "5RZAhki5PtOD",
    "outputId": "52bab622-6b12-4550-b8cb-67b508a99119"
   },
   "outputs": [
    {
     "name": "stdout",
     "output_type": "stream",
     "text": [
      "epoch 5 - loss: 0.38513035222351544\n",
      "epoch 10 - loss: 0.3840665265005182\n",
      "epoch 15 - loss: 0.3804619511859821\n",
      "epoch 20 - loss: 0.17464792391180017\n",
      "epoch 25 - loss: 0.07543551793443337\n",
      "epoch 30 - loss: 0.04860743667310585\n",
      "epoch 35 - loss: 0.02920826381189565\n",
      "epoch 40 - loss: 0.025688636954725567\n",
      "epoch 45 - loss: 0.01616173394370651\n",
      "epoch 50 - loss: 0.0184217771244714\n",
      "epoch 55 - loss: 0.015505994758065585\n",
      "epoch 60 - loss: 0.015442463740043301\n",
      "epoch 65 - loss: 0.013849925157067431\n",
      "epoch 70 - loss: 0.014154265413824505\n",
      "epoch 75 - loss: 0.012752701759816782\n",
      "epoch 80 - loss: 0.014523930922775144\n",
      "epoch 85 - loss: 0.013399680922662265\n",
      "epoch 90 - loss: 0.009931715219217525\n",
      "epoch 95 - loss: 0.009026051593998798\n",
      "epoch 100 - loss: 0.00840519785660685\n"
     ]
    }
   ],
   "source": [
    "import torch.optim as optim\n",
    "\n",
    "epochs = 100\n",
    "learning_rate = 0.001\n",
    "embedding_size = 32\n",
    "hidden_size = 32\n",
    "num_class = 2\n",
    "\n",
    "model = LSTM(embedding_size, hidden_size, num_class, len(vocab))\n",
    "loss_fn = nn.NLLLoss()\n",
    "optimizer = optim.Adam(model.parameters(), lr=learning_rate)\n",
    "\n",
    "all_losses = []\n",
    "\n",
    "model.train()\n",
    "for epoch in range(1, epochs+1):\n",
    "    cur_loss = 0\n",
    "    for i in range(len(train_set)):\n",
    "        model.zero_grad()\n",
    "        optimizer.zero_grad()\n",
    "        output = model(train_set[i]['text'])\n",
    "        y_true = torch.tensor([train_set[i]['label']], dtype=torch.long)\n",
    "        loss = loss_fn(output, y_true)\n",
    "        loss.backward()\n",
    "        optimizer.step()\n",
    "        cur_loss += loss.item()\n",
    "\n",
    "    all_losses.append(cur_loss/len(train_set))\n",
    "    if epoch%5==0:\n",
    "        print(f\"epoch {epoch} - loss: {all_losses[-1]}\")"
   ]
  },
  {
   "cell_type": "code",
   "execution_count": null,
   "metadata": {
    "colab": {
     "base_uri": "https://localhost:8080/",
     "height": 452
    },
    "id": "HsXubS1HZZft",
    "outputId": "4dcbf8de-1132-42d7-c372-439fef465d89"
   },
   "outputs": [
    {
     "data": {
      "text/plain": [
       "[<matplotlib.lines.Line2D at 0x7f9432cab640>]"
      ]
     },
     "execution_count": 12,
     "metadata": {},
     "output_type": "execute_result"
    },
    {
     "data": {
      "image/png": "[encoded data removed]",
      "text/plain": [
       "<Figure size 640x480 with 1 Axes>"
      ]
     },
     "metadata": {},
     "output_type": "display_data"
    }
   ],
   "source": [
    "import matplotlib.pyplot as plt\n",
    "\n",
    "plt.figure()\n",
    "plt.ylim([0, 1.0])\n",
    "plt.plot(all_losses)"
   ]
  },
  {
   "cell_type": "markdown",
   "metadata": {
    "id": "G0ae-FeJVFjG"
   },
   "source": [
    "### Evaluate"
   ]
  },
  {
   "cell_type": "code",
   "execution_count": null,
   "metadata": {
    "colab": {
     "base_uri": "https://localhost:8080/"
    },
    "id": "QDHW3m4AVHWS",
    "outputId": "8b2c4f17-1eec-4bfd-fb25-0e281cd92a4a"
   },
   "outputs": [
    {
     "name": "stdout",
     "output_type": "stream",
     "text": [
      "0.14177215189873418 0.781431334622824\n"
     ]
    }
   ],
   "source": [
    "from sklearn.metrics import f1_score, accuracy_score\n",
    "\n",
    "model.eval()\n",
    "y_true, y_pred = [], []\n",
    "with torch.no_grad():\n",
    "    for i in range(len(test_set)):\n",
    "        data = test_set[i]\n",
    "        text = data['text']\n",
    "        y_true.append(train_set[i]['label'])\n",
    "        output = model(text)\n",
    "        _, y = torch.max(output, 1)\n",
    "        y_pred.append(y[0])\n",
    "\n",
    "f1 = f1_score(y_true, y_pred)\n",
    "acc = accuracy_score(y_true, y_pred)\n",
    "print(f1, acc)"
   ]
  },
  {
   "cell_type": "markdown",
   "metadata": {
    "id": "VdgXh1Wx5dGg"
   },
   "source": [
    "## Model Define - nn.LSTM 사용"
   ]
  },
  {
   "cell_type": "code",
   "execution_count": null,
   "metadata": {
    "id": "rsp9cJu65iZy"
   },
   "outputs": [],
   "source": [
    "import torch.nn as nn\n",
    "\n",
    "class LSTM(nn.Module):\n",
    "    def __init__(self, batch_size, embedding_size, hidden_size, output_size, vocab_size, n_layers):\n",
    "        super(LSTM, self).__init__()\n",
    "\n",
    "        self.batch_size = batch_size\n",
    "        self.embedding_size = embedding_size\n",
    "        self.hidden_size = hidden_size\n",
    "        self.output_size = output_size\n",
    "        self.n_layers = n_layers\n",
    "\n",
    "        self.emb = nn.Embedding(vocab_size, embedding_size, padding_idx=0)\n",
    "        self.lstm = nn.LSTM(input_size=embedding_size,\n",
    "                            hidden_size=hidden_size,\n",
    "                            num_layers=n_layers,\n",
    "                            batch_first=True)\n",
    "        self.fc = nn.Linear(hidden_size, output_size)\n",
    "        self.softmax = nn.LogSoftmax(dim=1)\n",
    "\n",
    "    def forward(self, x):\n",
    "        x = self.emb(x)\n",
    "        output, (h_n, c_n) = self.lstm(x)\n",
    "        output = self.softmax(self.fc(output[:, -1, :]))\n",
    "\n",
    "        return output"
   ]
  },
  {
   "cell_type": "markdown",
   "metadata": {
    "id": "2cCDgTzV5oA0"
   },
   "source": [
    "### Train"
   ]
  },
  {
   "cell_type": "code",
   "execution_count": null,
   "metadata": {
    "id": "pARWDIrs5i1s"
   },
   "outputs": [],
   "source": [
    "def train(model, loss_fn, optimizer, train_loader):\n",
    "    model.train()\n",
    "\n",
    "    cur_loss = 0\n",
    "\n",
    "    for i, data in enumerate(train_loader):\n",
    "        model.zero_grad()\n",
    "        optimizer.zero_grad()\n",
    "\n",
    "        texts = data['text']\n",
    "        y_true = data['label']\n",
    "\n",
    "        outputs = model(texts)\n",
    "\n",
    "        loss = loss_fn(outputs, y_true)\n",
    "        loss.backward()\n",
    "        optimizer.step()\n",
    "        cur_loss += loss.item()\n",
    "\n",
    "    return outputs, cur_loss/(len(train_loader))"
   ]
  },
  {
   "cell_type": "code",
   "execution_count": null,
   "metadata": {
    "id": "shzN6zpVDpye"
   },
   "outputs": [],
   "source": [
    "epochs = 100\n",
    "learning_rate = 0.001\n",
    "batch_size = 64\n",
    "embedding_size = 32\n",
    "hidden_size = 32\n",
    "num_class = 2\n",
    "n_layers = 2\n",
    "\n",
    "train_loader = data.DataLoader(train_set, batch_size, shuffle=True, drop_last=True)\n",
    "test_loader = data.DataLoader(test_set, batch_size, shuffle=True, drop_last=True)"
   ]
  },
  {
   "cell_type": "code",
   "execution_count": null,
   "metadata": {
    "colab": {
     "base_uri": "https://localhost:8080/"
    },
    "id": "xGujga5WDryU",
    "outputId": "7a681b78-abd2-488a-e6c9-bb4debff347e"
   },
   "outputs": [
    {
     "name": "stdout",
     "output_type": "stream",
     "text": [
      "epoch 5 - loss: 0.38376520574092865\n",
      "epoch 10 - loss: 0.38236559288842337\n",
      "epoch 15 - loss: 0.38412944466939997\n",
      "epoch 20 - loss: 0.22059660857277258\n",
      "epoch 25 - loss: 0.07318351143372379\n",
      "epoch 30 - loss: 0.09283136852484729\n",
      "epoch 35 - loss: 0.05853673637778099\n",
      "epoch 40 - loss: 0.05016514888432409\n",
      "epoch 45 - loss: 0.04619420037072684\n",
      "epoch 50 - loss: 0.06285623935816277\n",
      "epoch 55 - loss: 0.03879941250696512\n",
      "epoch 60 - loss: 0.032567245686160665\n",
      "epoch 65 - loss: 0.09197147624633674\n",
      "epoch 70 - loss: 0.03662163977112089\n",
      "epoch 75 - loss: 0.03550108120543882\n",
      "epoch 80 - loss: 0.03532559848307366\n",
      "epoch 85 - loss: 0.0355093243166006\n",
      "epoch 90 - loss: 0.03532667945338679\n",
      "epoch 95 - loss: 0.03365725977346301\n",
      "epoch 100 - loss: 0.03535643510154581\n"
     ]
    }
   ],
   "source": [
    "import torch.optim as optim\n",
    "\n",
    "model = LSTM(batch_size, embedding_size, hidden_size, num_class, len(vocab), n_layers)\n",
    "loss_fn = nn.NLLLoss()\n",
    "optimizer = optim.Adam(model.parameters(), lr=learning_rate)\n",
    "\n",
    "all_losses = []\n",
    "\n",
    "for i in range(1, epochs+1):\n",
    "    output, loss = train(model, loss_fn, optimizer, train_loader)\n",
    "    all_losses.append(loss)\n",
    "\n",
    "    if i%5==0:\n",
    "        print(f\"epoch {i} - loss: {loss}\")"
   ]
  },
  {
   "cell_type": "code",
   "execution_count": null,
   "metadata": {
    "colab": {
     "base_uri": "https://localhost:8080/",
     "height": 452
    },
    "id": "AaOMG_blSZqI",
    "outputId": "00e0d97e-08d8-47e9-9ee0-2a675e25b5ba"
   },
   "outputs": [
    {
     "data": {
      "text/plain": [
       "[<matplotlib.lines.Line2D at 0x7febcad5a740>]"
      ]
     },
     "execution_count": 24,
     "metadata": {},
     "output_type": "execute_result"
    },
    {
     "data": {
      "image/png": "[encoded data removed]",
      "text/plain": [
       "<Figure size 640x480 with 1 Axes>"
      ]
     },
     "metadata": {},
     "output_type": "display_data"
    }
   ],
   "source": [
    "import matplotlib.pyplot as plt\n",
    "\n",
    "plt.figure()\n",
    "plt.ylim([0, 1.0])\n",
    "plt.plot(all_losses)"
   ]
  },
  {
   "cell_type": "markdown",
   "metadata": {
    "id": "WMYEIJj0-mDc"
   },
   "source": [
    "### Evaluate"
   ]
  },
  {
   "cell_type": "code",
   "execution_count": null,
   "metadata": {
    "id": "G_wx7bX08Lg6"
   },
   "outputs": [],
   "source": [
    "from sklearn.metrics import f1_score, accuracy_score\n",
    "\n",
    "def evaluate(model, test_loader):\n",
    "    model.eval()\n",
    "    f1, acc = 0, 0\n",
    "    with torch.no_grad():\n",
    "        for i, data in enumerate(test_loader):\n",
    "            texts = data['text']\n",
    "            y_true = data['label']\n",
    "            output = model(texts)\n",
    "\n",
    "            _, y_pred = torch.max(output, 1)\n",
    "\n",
    "            f1 += f1_score(y_true, y_pred)\n",
    "            acc += accuracy_score(y_true, y_pred)\n",
    "\n",
    "    return f1/len(test_loader), acc/len(test_loader)"
   ]
  },
  {
   "cell_type": "code",
   "execution_count": null,
   "metadata": {
    "colab": {
     "base_uri": "https://localhost:8080/"
    },
    "id": "p2WNql3WSb2R",
    "outputId": "36d28109-41cb-48aa-eb7f-75cce3b116b2"
   },
   "outputs": [
    {
     "name": "stdout",
     "output_type": "stream",
     "text": [
      "0.8465880118483095 0.9641927083333334\n"
     ]
    }
   ],
   "source": [
    "f1, acc = evaluate(model, test_loader)\n",
    "print(f1, acc)"
   ]
  }
 ],
 "metadata": {
  "colab": {
   "provenance": []
  },
  "kernelspec": {
   "display_name": "Python 3 (ipykernel)",
   "language": "python",
   "name": "python3"
  },
  "language_info": {
   "codemirror_mode": {
    "name": "ipython",
    "version": 3
   },
   "file_extension": ".py",
   "mimetype": "text/x-python",
   "name": "python",
   "nbconvert_exporter": "python",
   "pygments_lexer": "ipython3",
   "version": "3.7.13"
  }
 },
 "nbformat": 4,
 "nbformat_minor": 1
}
